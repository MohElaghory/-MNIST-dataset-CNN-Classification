{
  "cells": [
    {
      "cell_type": "markdown",
      "metadata": {
        "_cell_guid": "d4c08f48-fe23-4ddb-ac46-d97f05397514",
        "_uuid": "f2156d1dd26a1243e18512002e10872c5bd7271e",
        "id": "uzL7EX-z86Oa"
      },
      "source": [
        "# Introduction to CNN Keras - Acc 0.997 (top 8%) \n",
        "#### 18/07/2017\n",
        "\n",
        "Original Kernel : \n",
        "\n",
        "https://www.kaggle.com/yassineghouzam/introduction-to-cnn-keras-0-997-top-6\n",
        "\n",
        "\n",
        "\n",
        "* **1. Introduction**\n",
        "* **2. Data preparation**\n",
        "    * 2.1 Load data\n",
        "    * 2.2 Check for null and missing values\n",
        "    * 2.3 Data Resampling\n",
        "    * 2.4 Normalization\n",
        "    * 2.5 Reshape\n",
        "    * 2.6 Split training and valdiation set\n",
        "* **3. CNN**\n",
        "    * 3.1 Define the model\n",
        "    * 3.2 Set the optimizer and annealer\n",
        "    * 3.3 Data augmentation\n",
        "* **4. Evaluate the model**\n",
        "    * 4.1 Training and validation curves\n",
        "    * 4.2 Confusion matrix\n",
        "* **5. Prediction and submition**\n",
        "    * 5.1 Predict and Submit results"
      ]
    },
    {
      "cell_type": "markdown",
      "metadata": {
        "_cell_guid": "eb88b372-a6e5-40c8-a1c6-c03799165490",
        "_uuid": "e9aff3cf1bb8daa73bec67b970d12195677679f3",
        "id": "LY4q1xqJ86Oo"
      },
      "source": [
        "# 1. Introduction\n",
        "\n",
        "This is a 5 layers Sequential Convolutional Neural Network for digits recognition trained on MNIST dataset. I choosed to build it with keras API (Tensorflow backend) which is very intuitive. Firstly, I will prepare the data (handwritten digits images) then i will focus on the CNN modeling and evaluation.\n",
        "\n",
        "I achieved 99.671% of accuracy with this CNN trained in 2h30 on a single CPU (i5 2500k). For those who have a >= 3.0 GPU capabilites (from GTX 650 - to recent GPUs), you can use tensorflow-gpu with keras. Computation will be much much faster !!!\n",
        "\n",
        "**For computational reasons, i set the number of steps (epochs) to 2, if you want to achieve 99+% of accuracy set it to 30.**\n",
        "\n",
        "This Notebook follows three main parts:\n",
        "\n",
        "* The data preparation\n",
        "* The CNN modeling and evaluation\n",
        "* The results prediction and submission\n",
        "\n",
        "\n",
        "\n",
        "\n",
        "<img src=\"http://img1.imagilive.com/0717/mnist-sample.png\" ></img>"
      ]
    },
    {
      "cell_type": "code",
      "execution_count": 37,
      "metadata": {
        "_cell_guid": "f67b9393-8ea1-4e23-b856-2ce149cfe421",
        "_execution_state": "idle",
        "_uuid": "72334cb006d02a4bcfc2a2fe622524eba824c6f8",
        "id": "VAMGABt286Or"
      },
      "outputs": [],
      "source": [
        "%matplotlib inline\n",
        "\n",
        "import pandas as pd\n",
        "import numpy as np\n",
        "from matplotlib import pyplot as plt\n",
        "import seaborn as sns\n",
        "import tensorflow as tf\n",
        "from tensorflow import keras\n",
        "from copy import deepcopy\n",
        "\n",
        "\n",
        "from sklearn import model_selection\n",
        "from sklearn.metrics import classification_report, confusion_matrix, accuracy_score\n",
        "from sklearn.model_selection import train_test_split\n",
        "\n",
        "\n",
        "from tensorflow.keras.models import Sequential, load_model\n",
        "from tensorflow.keras.layers import Dense, Dropout, Flatten, Conv2D, MaxPool2D, BatchNormalization\n",
        "from tensorflow.keras.utils import plot_model\n",
        "from tensorflow.keras.optimizers import RMSprop\n",
        "from keras.preprocessing.image import ImageDataGenerator, load_img\n",
        "from keras.callbacks import EarlyStopping, ModelCheckpoint, ReduceLROnPlateau"
      ]
    },
    {
      "cell_type": "markdown",
      "source": [
        "# Read Data"
      ],
      "metadata": {
        "id": "bdkoUoRx-QeS"
      }
    },
    {
      "cell_type": "code",
      "metadata": {
        "id": "5EiMDyAjylsV",
        "colab": {
          "base_uri": "https://localhost:8080/"
        },
        "outputId": "6292c87f-c630-40b5-f3b9-1c4fa7c00f1d"
      },
      "source": [
        "# Install the Kaggle library\n",
        "! pip install kaggle"
      ],
      "execution_count": 2,
      "outputs": [
        {
          "output_type": "stream",
          "name": "stdout",
          "text": [
            "Looking in indexes: https://pypi.org/simple, https://us-python.pkg.dev/colab-wheels/public/simple/\n",
            "Requirement already satisfied: kaggle in /usr/local/lib/python3.7/dist-packages (1.5.12)\n",
            "Requirement already satisfied: python-slugify in /usr/local/lib/python3.7/dist-packages (from kaggle) (6.1.2)\n",
            "Requirement already satisfied: certifi in /usr/local/lib/python3.7/dist-packages (from kaggle) (2022.5.18.1)\n",
            "Requirement already satisfied: python-dateutil in /usr/local/lib/python3.7/dist-packages (from kaggle) (2.8.2)\n",
            "Requirement already satisfied: tqdm in /usr/local/lib/python3.7/dist-packages (from kaggle) (4.64.0)\n",
            "Requirement already satisfied: six>=1.10 in /usr/local/lib/python3.7/dist-packages (from kaggle) (1.15.0)\n",
            "Requirement already satisfied: urllib3 in /usr/local/lib/python3.7/dist-packages (from kaggle) (1.24.3)\n",
            "Requirement already satisfied: requests in /usr/local/lib/python3.7/dist-packages (from kaggle) (2.23.0)\n",
            "Requirement already satisfied: text-unidecode>=1.3 in /usr/local/lib/python3.7/dist-packages (from python-slugify->kaggle) (1.3)\n",
            "Requirement already satisfied: chardet<4,>=3.0.2 in /usr/local/lib/python3.7/dist-packages (from requests->kaggle) (3.0.4)\n",
            "Requirement already satisfied: idna<3,>=2.5 in /usr/local/lib/python3.7/dist-packages (from requests->kaggle) (2.10)\n"
          ]
        }
      ]
    },
    {
      "cell_type": "code",
      "metadata": {
        "id": "gYm3LWnaymmg",
        "colab": {
          "resources": {
            "http://localhost:8080/nbextensions/google.colab/files.js": {
              "data": "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",
              "ok": true,
              "headers": [
                [
                  "content-type",
                  "application/javascript"
                ]
              ],
              "status": 200,
              "status_text": ""
            }
          },
          "base_uri": "https://localhost:8080/",
          "height": 90
        },
        "outputId": "40ba4003-7688-4886-e53e-5f6d0f8633ec"
      },
      "source": [
        "from google.colab import files\n",
        "files.upload()                     # upload [kaggle.json]"
      ],
      "execution_count": 3,
      "outputs": [
        {
          "output_type": "display_data",
          "data": {
            "text/plain": [
              "<IPython.core.display.HTML object>"
            ],
            "text/html": [
              "\n",
              "     <input type=\"file\" id=\"files-71964452-7faa-457f-ab44-633523939757\" name=\"files[]\" multiple disabled\n",
              "        style=\"border:none\" />\n",
              "     <output id=\"result-71964452-7faa-457f-ab44-633523939757\">\n",
              "      Upload widget is only available when the cell has been executed in the\n",
              "      current browser session. Please rerun this cell to enable.\n",
              "      </output>\n",
              "      <script src=\"/nbextensions/google.colab/files.js\"></script> "
            ]
          },
          "metadata": {}
        },
        {
          "output_type": "stream",
          "name": "stdout",
          "text": [
            "Saving kaggle.json to kaggle.json\n"
          ]
        },
        {
          "output_type": "execute_result",
          "data": {
            "text/plain": [
              "{'kaggle.json': b'{\"username\":\"nourmamdouh\",\"key\":\"72822c2dc70171f87bd4c33db71b5174\"}'}"
            ]
          },
          "metadata": {},
          "execution_count": 3
        }
      ]
    },
    {
      "cell_type": "code",
      "metadata": {
        "id": "dz1xuk0aynpZ"
      },
      "source": [
        "# Make a folder named “.kaggle”\n",
        "! mkdir ~/.kaggle"
      ],
      "execution_count": 4,
      "outputs": []
    },
    {
      "cell_type": "code",
      "metadata": {
        "id": "JGdZ0N3gynwZ"
      },
      "source": [
        "# Copy the “kaggle.json” into this new directory\n",
        "! cp kaggle.json ~/.kaggle/"
      ],
      "execution_count": 5,
      "outputs": []
    },
    {
      "cell_type": "code",
      "metadata": {
        "id": "_HPKh2mYxacR"
      },
      "source": [
        "# Allocate the required permission for this file.\n",
        "! chmod 600 ~/.kaggle/kaggle.json"
      ],
      "execution_count": 6,
      "outputs": []
    },
    {
      "cell_type": "code",
      "metadata": {
        "id": "jeU3Dd51xcJS"
      },
      "source": [
        "# Allocate the required permission for this file.\n",
        "! chmod 600 ~/.kaggle/kaggle.json"
      ],
      "execution_count": 7,
      "outputs": []
    },
    {
      "cell_type": "code",
      "metadata": {
        "id": "oKRsgZ-zNZ6z",
        "colab": {
          "base_uri": "https://localhost:8080/"
        },
        "outputId": "8910027b-fc4c-4d1a-e467-9494637ce727"
      },
      "source": [
        "# Mount Drive:\n",
        "from google.colab import drive\n",
        "drive.mount(\"/content/drive\")"
      ],
      "execution_count": 10,
      "outputs": [
        {
          "output_type": "stream",
          "name": "stdout",
          "text": [
            "Mounted at /content/drive\n"
          ]
        }
      ]
    },
    {
      "cell_type": "code",
      "source": [
        "! kaggle kernels output yassineghouzam/introduction-to-cnn-keras-0-997-top-6 -p /path/to/dest"
      ],
      "metadata": {
        "colab": {
          "base_uri": "https://localhost:8080/"
        },
        "id": "HQbyUCrH-Dhu",
        "outputId": "88bc04e9-d6c8-467d-b706-11ddc6c46b1a"
      },
      "execution_count": 11,
      "outputs": [
        {
          "output_type": "stream",
          "name": "stdout",
          "text": [
            "Output file downloaded to /path/to/dest/cnn_mnist_datagen.csv\n",
            "Kernel log downloaded to /path/to/dest/introduction-to-cnn-keras-0-997-top-6.log \n"
          ]
        }
      ]
    },
    {
      "cell_type": "code",
      "source": [
        ""
      ],
      "metadata": {
        "id": "hoFX2683XPCx"
      },
      "execution_count": null,
      "outputs": []
    },
    {
      "cell_type": "markdown",
      "metadata": {
        "_cell_guid": "6d2fb3e6-ab71-4974-b5a2-4af1ebdb99f4",
        "_execution_state": "idle",
        "_uuid": "86061d98eccaa02efe0dab0fa3884e71fcf4c310",
        "id": "VTwruHix86Ou"
      },
      "source": [
        "# 2. Data preparation\n",
        "## 2.1 Load data"
      ]
    },
    {
      "cell_type": "code",
      "execution_count": 8,
      "metadata": {
        "_cell_guid": "5e51d00e-62fd-4141-bf73-50ac4f2da7d0",
        "_execution_state": "idle",
        "_uuid": "84bbd5ab8d7895bd430d5ecfe2f7ddf77baa7b74",
        "collapsed": true,
        "id": "0Qq17oMV86Ov"
      },
      "outputs": [],
      "source": [
        "# Load the data\n",
        "train = pd.read_csv('sample_data/mnist_train_small.csv', header= None)\n",
        "test = pd.read_csv(\"sample_data/mnist_test.csv\", header= None)"
      ]
    },
    {
      "cell_type": "code",
      "source": [
        "print(train.shape)\n",
        "print(test.shape)"
      ],
      "metadata": {
        "colab": {
          "base_uri": "https://localhost:8080/"
        },
        "id": "_SHrTBPQZrr7",
        "outputId": "8a56f4be-34c2-486d-e718-92d2eb3fa5b9"
      },
      "execution_count": 9,
      "outputs": [
        {
          "output_type": "stream",
          "name": "stdout",
          "text": [
            "(20000, 785)\n",
            "(10000, 785)\n"
          ]
        }
      ]
    },
    {
      "cell_type": "code",
      "source": [
        "train.head()"
      ],
      "metadata": {
        "colab": {
          "base_uri": "https://localhost:8080/",
          "height": 236
        },
        "id": "IOBCBIzcD8NU",
        "outputId": "51f938a8-aae7-4ee8-ac16-cea0c1e3f5bd"
      },
      "execution_count": 10,
      "outputs": [
        {
          "output_type": "execute_result",
          "data": {
            "text/plain": [
              "   0    1    2    3    4    5    6    7    8    9    ...  775  776  777  778  \\\n",
              "0    6    0    0    0    0    0    0    0    0    0  ...    0    0    0    0   \n",
              "1    5    0    0    0    0    0    0    0    0    0  ...    0    0    0    0   \n",
              "2    7    0    0    0    0    0    0    0    0    0  ...    0    0    0    0   \n",
              "3    9    0    0    0    0    0    0    0    0    0  ...    0    0    0    0   \n",
              "4    5    0    0    0    0    0    0    0    0    0  ...    0    0    0    0   \n",
              "\n",
              "   779  780  781  782  783  784  \n",
              "0    0    0    0    0    0    0  \n",
              "1    0    0    0    0    0    0  \n",
              "2    0    0    0    0    0    0  \n",
              "3    0    0    0    0    0    0  \n",
              "4    0    0    0    0    0    0  \n",
              "\n",
              "[5 rows x 785 columns]"
            ],
            "text/html": [
              "\n",
              "  <div id=\"df-1db9c8d8-c937-4f07-a39b-bda81351a63f\">\n",
              "    <div class=\"colab-df-container\">\n",
              "      <div>\n",
              "<style scoped>\n",
              "    .dataframe tbody tr th:only-of-type {\n",
              "        vertical-align: middle;\n",
              "    }\n",
              "\n",
              "    .dataframe tbody tr th {\n",
              "        vertical-align: top;\n",
              "    }\n",
              "\n",
              "    .dataframe thead th {\n",
              "        text-align: right;\n",
              "    }\n",
              "</style>\n",
              "<table border=\"1\" class=\"dataframe\">\n",
              "  <thead>\n",
              "    <tr style=\"text-align: right;\">\n",
              "      <th></th>\n",
              "      <th>0</th>\n",
              "      <th>1</th>\n",
              "      <th>2</th>\n",
              "      <th>3</th>\n",
              "      <th>4</th>\n",
              "      <th>5</th>\n",
              "      <th>6</th>\n",
              "      <th>7</th>\n",
              "      <th>8</th>\n",
              "      <th>9</th>\n",
              "      <th>...</th>\n",
              "      <th>775</th>\n",
              "      <th>776</th>\n",
              "      <th>777</th>\n",
              "      <th>778</th>\n",
              "      <th>779</th>\n",
              "      <th>780</th>\n",
              "      <th>781</th>\n",
              "      <th>782</th>\n",
              "      <th>783</th>\n",
              "      <th>784</th>\n",
              "    </tr>\n",
              "  </thead>\n",
              "  <tbody>\n",
              "    <tr>\n",
              "      <th>0</th>\n",
              "      <td>6</td>\n",
              "      <td>0</td>\n",
              "      <td>0</td>\n",
              "      <td>0</td>\n",
              "      <td>0</td>\n",
              "      <td>0</td>\n",
              "      <td>0</td>\n",
              "      <td>0</td>\n",
              "      <td>0</td>\n",
              "      <td>0</td>\n",
              "      <td>...</td>\n",
              "      <td>0</td>\n",
              "      <td>0</td>\n",
              "      <td>0</td>\n",
              "      <td>0</td>\n",
              "      <td>0</td>\n",
              "      <td>0</td>\n",
              "      <td>0</td>\n",
              "      <td>0</td>\n",
              "      <td>0</td>\n",
              "      <td>0</td>\n",
              "    </tr>\n",
              "    <tr>\n",
              "      <th>1</th>\n",
              "      <td>5</td>\n",
              "      <td>0</td>\n",
              "      <td>0</td>\n",
              "      <td>0</td>\n",
              "      <td>0</td>\n",
              "      <td>0</td>\n",
              "      <td>0</td>\n",
              "      <td>0</td>\n",
              "      <td>0</td>\n",
              "      <td>0</td>\n",
              "      <td>...</td>\n",
              "      <td>0</td>\n",
              "      <td>0</td>\n",
              "      <td>0</td>\n",
              "      <td>0</td>\n",
              "      <td>0</td>\n",
              "      <td>0</td>\n",
              "      <td>0</td>\n",
              "      <td>0</td>\n",
              "      <td>0</td>\n",
              "      <td>0</td>\n",
              "    </tr>\n",
              "    <tr>\n",
              "      <th>2</th>\n",
              "      <td>7</td>\n",
              "      <td>0</td>\n",
              "      <td>0</td>\n",
              "      <td>0</td>\n",
              "      <td>0</td>\n",
              "      <td>0</td>\n",
              "      <td>0</td>\n",
              "      <td>0</td>\n",
              "      <td>0</td>\n",
              "      <td>0</td>\n",
              "      <td>...</td>\n",
              "      <td>0</td>\n",
              "      <td>0</td>\n",
              "      <td>0</td>\n",
              "      <td>0</td>\n",
              "      <td>0</td>\n",
              "      <td>0</td>\n",
              "      <td>0</td>\n",
              "      <td>0</td>\n",
              "      <td>0</td>\n",
              "      <td>0</td>\n",
              "    </tr>\n",
              "    <tr>\n",
              "      <th>3</th>\n",
              "      <td>9</td>\n",
              "      <td>0</td>\n",
              "      <td>0</td>\n",
              "      <td>0</td>\n",
              "      <td>0</td>\n",
              "      <td>0</td>\n",
              "      <td>0</td>\n",
              "      <td>0</td>\n",
              "      <td>0</td>\n",
              "      <td>0</td>\n",
              "      <td>...</td>\n",
              "      <td>0</td>\n",
              "      <td>0</td>\n",
              "      <td>0</td>\n",
              "      <td>0</td>\n",
              "      <td>0</td>\n",
              "      <td>0</td>\n",
              "      <td>0</td>\n",
              "      <td>0</td>\n",
              "      <td>0</td>\n",
              "      <td>0</td>\n",
              "    </tr>\n",
              "    <tr>\n",
              "      <th>4</th>\n",
              "      <td>5</td>\n",
              "      <td>0</td>\n",
              "      <td>0</td>\n",
              "      <td>0</td>\n",
              "      <td>0</td>\n",
              "      <td>0</td>\n",
              "      <td>0</td>\n",
              "      <td>0</td>\n",
              "      <td>0</td>\n",
              "      <td>0</td>\n",
              "      <td>...</td>\n",
              "      <td>0</td>\n",
              "      <td>0</td>\n",
              "      <td>0</td>\n",
              "      <td>0</td>\n",
              "      <td>0</td>\n",
              "      <td>0</td>\n",
              "      <td>0</td>\n",
              "      <td>0</td>\n",
              "      <td>0</td>\n",
              "      <td>0</td>\n",
              "    </tr>\n",
              "  </tbody>\n",
              "</table>\n",
              "<p>5 rows × 785 columns</p>\n",
              "</div>\n",
              "      <button class=\"colab-df-convert\" onclick=\"convertToInteractive('df-1db9c8d8-c937-4f07-a39b-bda81351a63f')\"\n",
              "              title=\"Convert this dataframe to an interactive table.\"\n",
              "              style=\"display:none;\">\n",
              "        \n",
              "  <svg xmlns=\"http://www.w3.org/2000/svg\" height=\"24px\"viewBox=\"0 0 24 24\"\n",
              "       width=\"24px\">\n",
              "    <path d=\"M0 0h24v24H0V0z\" fill=\"none\"/>\n",
              "    <path d=\"M18.56 5.44l.94 2.06.94-2.06 2.06-.94-2.06-.94-.94-2.06-.94 2.06-2.06.94zm-11 1L8.5 8.5l.94-2.06 2.06-.94-2.06-.94L8.5 2.5l-.94 2.06-2.06.94zm10 10l.94 2.06.94-2.06 2.06-.94-2.06-.94-.94-2.06-.94 2.06-2.06.94z\"/><path d=\"M17.41 7.96l-1.37-1.37c-.4-.4-.92-.59-1.43-.59-.52 0-1.04.2-1.43.59L10.3 9.45l-7.72 7.72c-.78.78-.78 2.05 0 2.83L4 21.41c.39.39.9.59 1.41.59.51 0 1.02-.2 1.41-.59l7.78-7.78 2.81-2.81c.8-.78.8-2.07 0-2.86zM5.41 20L4 18.59l7.72-7.72 1.47 1.35L5.41 20z\"/>\n",
              "  </svg>\n",
              "      </button>\n",
              "      \n",
              "  <style>\n",
              "    .colab-df-container {\n",
              "      display:flex;\n",
              "      flex-wrap:wrap;\n",
              "      gap: 12px;\n",
              "    }\n",
              "\n",
              "    .colab-df-convert {\n",
              "      background-color: #E8F0FE;\n",
              "      border: none;\n",
              "      border-radius: 50%;\n",
              "      cursor: pointer;\n",
              "      display: none;\n",
              "      fill: #1967D2;\n",
              "      height: 32px;\n",
              "      padding: 0 0 0 0;\n",
              "      width: 32px;\n",
              "    }\n",
              "\n",
              "    .colab-df-convert:hover {\n",
              "      background-color: #E2EBFA;\n",
              "      box-shadow: 0px 1px 2px rgba(60, 64, 67, 0.3), 0px 1px 3px 1px rgba(60, 64, 67, 0.15);\n",
              "      fill: #174EA6;\n",
              "    }\n",
              "\n",
              "    [theme=dark] .colab-df-convert {\n",
              "      background-color: #3B4455;\n",
              "      fill: #D2E3FC;\n",
              "    }\n",
              "\n",
              "    [theme=dark] .colab-df-convert:hover {\n",
              "      background-color: #434B5C;\n",
              "      box-shadow: 0px 1px 3px 1px rgba(0, 0, 0, 0.15);\n",
              "      filter: drop-shadow(0px 1px 2px rgba(0, 0, 0, 0.3));\n",
              "      fill: #FFFFFF;\n",
              "    }\n",
              "  </style>\n",
              "\n",
              "      <script>\n",
              "        const buttonEl =\n",
              "          document.querySelector('#df-1db9c8d8-c937-4f07-a39b-bda81351a63f button.colab-df-convert');\n",
              "        buttonEl.style.display =\n",
              "          google.colab.kernel.accessAllowed ? 'block' : 'none';\n",
              "\n",
              "        async function convertToInteractive(key) {\n",
              "          const element = document.querySelector('#df-1db9c8d8-c937-4f07-a39b-bda81351a63f');\n",
              "          const dataTable =\n",
              "            await google.colab.kernel.invokeFunction('convertToInteractive',\n",
              "                                                     [key], {});\n",
              "          if (!dataTable) return;\n",
              "\n",
              "          const docLinkHtml = 'Like what you see? Visit the ' +\n",
              "            '<a target=\"_blank\" href=https://colab.research.google.com/notebooks/data_table.ipynb>data table notebook</a>'\n",
              "            + ' to learn more about interactive tables.';\n",
              "          element.innerHTML = '';\n",
              "          dataTable['output_type'] = 'display_data';\n",
              "          await google.colab.output.renderOutput(dataTable, element);\n",
              "          const docLink = document.createElement('div');\n",
              "          docLink.innerHTML = docLinkHtml;\n",
              "          element.appendChild(docLink);\n",
              "        }\n",
              "      </script>\n",
              "    </div>\n",
              "  </div>\n",
              "  "
            ]
          },
          "metadata": {},
          "execution_count": 10
        }
      ]
    },
    {
      "cell_type": "code",
      "source": [
        "test.head()"
      ],
      "metadata": {
        "colab": {
          "base_uri": "https://localhost:8080/",
          "height": 236
        },
        "id": "j7d08WkHdpYP",
        "outputId": "7aed8e45-a4b7-4c53-d0a9-7e6a5c0199d8"
      },
      "execution_count": 11,
      "outputs": [
        {
          "output_type": "execute_result",
          "data": {
            "text/plain": [
              "   0    1    2    3    4    5    6    7    8    9    ...  775  776  777  778  \\\n",
              "0    7    0    0    0    0    0    0    0    0    0  ...    0    0    0    0   \n",
              "1    2    0    0    0    0    0    0    0    0    0  ...    0    0    0    0   \n",
              "2    1    0    0    0    0    0    0    0    0    0  ...    0    0    0    0   \n",
              "3    0    0    0    0    0    0    0    0    0    0  ...    0    0    0    0   \n",
              "4    4    0    0    0    0    0    0    0    0    0  ...    0    0    0    0   \n",
              "\n",
              "   779  780  781  782  783  784  \n",
              "0    0    0    0    0    0    0  \n",
              "1    0    0    0    0    0    0  \n",
              "2    0    0    0    0    0    0  \n",
              "3    0    0    0    0    0    0  \n",
              "4    0    0    0    0    0    0  \n",
              "\n",
              "[5 rows x 785 columns]"
            ],
            "text/html": [
              "\n",
              "  <div id=\"df-331376d6-fe96-4e06-b746-fbc3cb3d5026\">\n",
              "    <div class=\"colab-df-container\">\n",
              "      <div>\n",
              "<style scoped>\n",
              "    .dataframe tbody tr th:only-of-type {\n",
              "        vertical-align: middle;\n",
              "    }\n",
              "\n",
              "    .dataframe tbody tr th {\n",
              "        vertical-align: top;\n",
              "    }\n",
              "\n",
              "    .dataframe thead th {\n",
              "        text-align: right;\n",
              "    }\n",
              "</style>\n",
              "<table border=\"1\" class=\"dataframe\">\n",
              "  <thead>\n",
              "    <tr style=\"text-align: right;\">\n",
              "      <th></th>\n",
              "      <th>0</th>\n",
              "      <th>1</th>\n",
              "      <th>2</th>\n",
              "      <th>3</th>\n",
              "      <th>4</th>\n",
              "      <th>5</th>\n",
              "      <th>6</th>\n",
              "      <th>7</th>\n",
              "      <th>8</th>\n",
              "      <th>9</th>\n",
              "      <th>...</th>\n",
              "      <th>775</th>\n",
              "      <th>776</th>\n",
              "      <th>777</th>\n",
              "      <th>778</th>\n",
              "      <th>779</th>\n",
              "      <th>780</th>\n",
              "      <th>781</th>\n",
              "      <th>782</th>\n",
              "      <th>783</th>\n",
              "      <th>784</th>\n",
              "    </tr>\n",
              "  </thead>\n",
              "  <tbody>\n",
              "    <tr>\n",
              "      <th>0</th>\n",
              "      <td>7</td>\n",
              "      <td>0</td>\n",
              "      <td>0</td>\n",
              "      <td>0</td>\n",
              "      <td>0</td>\n",
              "      <td>0</td>\n",
              "      <td>0</td>\n",
              "      <td>0</td>\n",
              "      <td>0</td>\n",
              "      <td>0</td>\n",
              "      <td>...</td>\n",
              "      <td>0</td>\n",
              "      <td>0</td>\n",
              "      <td>0</td>\n",
              "      <td>0</td>\n",
              "      <td>0</td>\n",
              "      <td>0</td>\n",
              "      <td>0</td>\n",
              "      <td>0</td>\n",
              "      <td>0</td>\n",
              "      <td>0</td>\n",
              "    </tr>\n",
              "    <tr>\n",
              "      <th>1</th>\n",
              "      <td>2</td>\n",
              "      <td>0</td>\n",
              "      <td>0</td>\n",
              "      <td>0</td>\n",
              "      <td>0</td>\n",
              "      <td>0</td>\n",
              "      <td>0</td>\n",
              "      <td>0</td>\n",
              "      <td>0</td>\n",
              "      <td>0</td>\n",
              "      <td>...</td>\n",
              "      <td>0</td>\n",
              "      <td>0</td>\n",
              "      <td>0</td>\n",
              "      <td>0</td>\n",
              "      <td>0</td>\n",
              "      <td>0</td>\n",
              "      <td>0</td>\n",
              "      <td>0</td>\n",
              "      <td>0</td>\n",
              "      <td>0</td>\n",
              "    </tr>\n",
              "    <tr>\n",
              "      <th>2</th>\n",
              "      <td>1</td>\n",
              "      <td>0</td>\n",
              "      <td>0</td>\n",
              "      <td>0</td>\n",
              "      <td>0</td>\n",
              "      <td>0</td>\n",
              "      <td>0</td>\n",
              "      <td>0</td>\n",
              "      <td>0</td>\n",
              "      <td>0</td>\n",
              "      <td>...</td>\n",
              "      <td>0</td>\n",
              "      <td>0</td>\n",
              "      <td>0</td>\n",
              "      <td>0</td>\n",
              "      <td>0</td>\n",
              "      <td>0</td>\n",
              "      <td>0</td>\n",
              "      <td>0</td>\n",
              "      <td>0</td>\n",
              "      <td>0</td>\n",
              "    </tr>\n",
              "    <tr>\n",
              "      <th>3</th>\n",
              "      <td>0</td>\n",
              "      <td>0</td>\n",
              "      <td>0</td>\n",
              "      <td>0</td>\n",
              "      <td>0</td>\n",
              "      <td>0</td>\n",
              "      <td>0</td>\n",
              "      <td>0</td>\n",
              "      <td>0</td>\n",
              "      <td>0</td>\n",
              "      <td>...</td>\n",
              "      <td>0</td>\n",
              "      <td>0</td>\n",
              "      <td>0</td>\n",
              "      <td>0</td>\n",
              "      <td>0</td>\n",
              "      <td>0</td>\n",
              "      <td>0</td>\n",
              "      <td>0</td>\n",
              "      <td>0</td>\n",
              "      <td>0</td>\n",
              "    </tr>\n",
              "    <tr>\n",
              "      <th>4</th>\n",
              "      <td>4</td>\n",
              "      <td>0</td>\n",
              "      <td>0</td>\n",
              "      <td>0</td>\n",
              "      <td>0</td>\n",
              "      <td>0</td>\n",
              "      <td>0</td>\n",
              "      <td>0</td>\n",
              "      <td>0</td>\n",
              "      <td>0</td>\n",
              "      <td>...</td>\n",
              "      <td>0</td>\n",
              "      <td>0</td>\n",
              "      <td>0</td>\n",
              "      <td>0</td>\n",
              "      <td>0</td>\n",
              "      <td>0</td>\n",
              "      <td>0</td>\n",
              "      <td>0</td>\n",
              "      <td>0</td>\n",
              "      <td>0</td>\n",
              "    </tr>\n",
              "  </tbody>\n",
              "</table>\n",
              "<p>5 rows × 785 columns</p>\n",
              "</div>\n",
              "      <button class=\"colab-df-convert\" onclick=\"convertToInteractive('df-331376d6-fe96-4e06-b746-fbc3cb3d5026')\"\n",
              "              title=\"Convert this dataframe to an interactive table.\"\n",
              "              style=\"display:none;\">\n",
              "        \n",
              "  <svg xmlns=\"http://www.w3.org/2000/svg\" height=\"24px\"viewBox=\"0 0 24 24\"\n",
              "       width=\"24px\">\n",
              "    <path d=\"M0 0h24v24H0V0z\" fill=\"none\"/>\n",
              "    <path d=\"M18.56 5.44l.94 2.06.94-2.06 2.06-.94-2.06-.94-.94-2.06-.94 2.06-2.06.94zm-11 1L8.5 8.5l.94-2.06 2.06-.94-2.06-.94L8.5 2.5l-.94 2.06-2.06.94zm10 10l.94 2.06.94-2.06 2.06-.94-2.06-.94-.94-2.06-.94 2.06-2.06.94z\"/><path d=\"M17.41 7.96l-1.37-1.37c-.4-.4-.92-.59-1.43-.59-.52 0-1.04.2-1.43.59L10.3 9.45l-7.72 7.72c-.78.78-.78 2.05 0 2.83L4 21.41c.39.39.9.59 1.41.59.51 0 1.02-.2 1.41-.59l7.78-7.78 2.81-2.81c.8-.78.8-2.07 0-2.86zM5.41 20L4 18.59l7.72-7.72 1.47 1.35L5.41 20z\"/>\n",
              "  </svg>\n",
              "      </button>\n",
              "      \n",
              "  <style>\n",
              "    .colab-df-container {\n",
              "      display:flex;\n",
              "      flex-wrap:wrap;\n",
              "      gap: 12px;\n",
              "    }\n",
              "\n",
              "    .colab-df-convert {\n",
              "      background-color: #E8F0FE;\n",
              "      border: none;\n",
              "      border-radius: 50%;\n",
              "      cursor: pointer;\n",
              "      display: none;\n",
              "      fill: #1967D2;\n",
              "      height: 32px;\n",
              "      padding: 0 0 0 0;\n",
              "      width: 32px;\n",
              "    }\n",
              "\n",
              "    .colab-df-convert:hover {\n",
              "      background-color: #E2EBFA;\n",
              "      box-shadow: 0px 1px 2px rgba(60, 64, 67, 0.3), 0px 1px 3px 1px rgba(60, 64, 67, 0.15);\n",
              "      fill: #174EA6;\n",
              "    }\n",
              "\n",
              "    [theme=dark] .colab-df-convert {\n",
              "      background-color: #3B4455;\n",
              "      fill: #D2E3FC;\n",
              "    }\n",
              "\n",
              "    [theme=dark] .colab-df-convert:hover {\n",
              "      background-color: #434B5C;\n",
              "      box-shadow: 0px 1px 3px 1px rgba(0, 0, 0, 0.15);\n",
              "      filter: drop-shadow(0px 1px 2px rgba(0, 0, 0, 0.3));\n",
              "      fill: #FFFFFF;\n",
              "    }\n",
              "  </style>\n",
              "\n",
              "      <script>\n",
              "        const buttonEl =\n",
              "          document.querySelector('#df-331376d6-fe96-4e06-b746-fbc3cb3d5026 button.colab-df-convert');\n",
              "        buttonEl.style.display =\n",
              "          google.colab.kernel.accessAllowed ? 'block' : 'none';\n",
              "\n",
              "        async function convertToInteractive(key) {\n",
              "          const element = document.querySelector('#df-331376d6-fe96-4e06-b746-fbc3cb3d5026');\n",
              "          const dataTable =\n",
              "            await google.colab.kernel.invokeFunction('convertToInteractive',\n",
              "                                                     [key], {});\n",
              "          if (!dataTable) return;\n",
              "\n",
              "          const docLinkHtml = 'Like what you see? Visit the ' +\n",
              "            '<a target=\"_blank\" href=https://colab.research.google.com/notebooks/data_table.ipynb>data table notebook</a>'\n",
              "            + ' to learn more about interactive tables.';\n",
              "          element.innerHTML = '';\n",
              "          dataTable['output_type'] = 'display_data';\n",
              "          await google.colab.output.renderOutput(dataTable, element);\n",
              "          const docLink = document.createElement('div');\n",
              "          docLink.innerHTML = docLinkHtml;\n",
              "          element.appendChild(docLink);\n",
              "        }\n",
              "      </script>\n",
              "    </div>\n",
              "  </div>\n",
              "  "
            ]
          },
          "metadata": {},
          "execution_count": 11
        }
      ]
    },
    {
      "cell_type": "markdown",
      "metadata": {
        "_cell_guid": "5b7d4b66-a140-4fcc-a889-bcef007c880a",
        "_uuid": "5d77934302869925c19128c77e247b3c8ca84d71",
        "id": "3_KFAYi486O2"
      },
      "source": [
        "## 2.2 Check for null and missing values"
      ]
    },
    {
      "cell_type": "code",
      "source": [
        "# Check the data\n",
        "train.isnull().any().describe()"
      ],
      "metadata": {
        "colab": {
          "base_uri": "https://localhost:8080/"
        },
        "id": "7970YeULactW",
        "outputId": "bfad467e-568b-4706-d672-54f96ca9635a"
      },
      "execution_count": 12,
      "outputs": [
        {
          "output_type": "execute_result",
          "data": {
            "text/plain": [
              "count       785\n",
              "unique        1\n",
              "top       False\n",
              "freq        785\n",
              "dtype: object"
            ]
          },
          "metadata": {},
          "execution_count": 12
        }
      ]
    },
    {
      "cell_type": "code",
      "execution_count": 13,
      "metadata": {
        "_cell_guid": "92572e80-8543-4e72-8767-5c9be8381b04",
        "_execution_state": "idle",
        "_uuid": "a0089bb7ec9aec76373db475399aea24699ae989",
        "colab": {
          "base_uri": "https://localhost:8080/"
        },
        "id": "PRNJd8bs86O5",
        "outputId": "86fb6aad-c29c-44eb-b417-ae8c5e1fef23"
      },
      "outputs": [
        {
          "output_type": "execute_result",
          "data": {
            "text/plain": [
              "count       785\n",
              "unique        1\n",
              "top       False\n",
              "freq        785\n",
              "dtype: object"
            ]
          },
          "metadata": {},
          "execution_count": 13
        }
      ],
      "source": [
        "test.isnull().any().describe()"
      ]
    },
    {
      "cell_type": "markdown",
      "metadata": {
        "_cell_guid": "09d04cae-4245-4659-85dd-ef48531da295",
        "_uuid": "c0bee59691c2df0b275c78e38e7f9907d02ac038",
        "id": "5TSvTuLy86O7"
      },
      "source": [
        "I check for corrupted images (missing values inside).\n",
        "\n",
        "There is no missing values in the train and test dataset. So we can safely go ahead."
      ]
    },
    {
      "cell_type": "markdown",
      "source": [
        "## 2.3 Data Resampling"
      ],
      "metadata": {
        "id": "66EOTX30gJu0"
      }
    },
    {
      "cell_type": "markdown",
      "source": [
        "## `Train Data`"
      ],
      "metadata": {
        "id": "VYtSgQiJc0a2"
      }
    },
    {
      "cell_type": "code",
      "source": [
        "plt.figure(figsize= [10, 5])\n",
        "ax = sns.countplot(x= train[0], palette=\"icefire\")\n",
        "\n",
        "for p in ax.patches:\n",
        "    ax.annotate('{}'.format(p.get_height()), (p.get_x()+.1, p.get_height()+0.01*p.get_height()))\n",
        "plt.show()\n",
        "\n",
        "train[0].value_counts()"
      ],
      "metadata": {
        "colab": {
          "base_uri": "https://localhost:8080/",
          "height": 525
        },
        "id": "KK9rLUsihAKt",
        "outputId": "2a7a1cce-d67a-43b8-8ab2-85f0deb1cf12"
      },
      "execution_count": 14,
      "outputs": [
        {
          "output_type": "display_data",
          "data": {
            "text/plain": [
              "<Figure size 720x360 with 1 Axes>"
            ],
            "image/png": "[encoded data removed]"
          },
          "metadata": {
            "needs_background": "light"
          }
        },
        {
          "output_type": "execute_result",
          "data": {
            "text/plain": [
              "1    2243\n",
              "7    2126\n",
              "6    2039\n",
              "9    2023\n",
              "3    2021\n",
              "2    1989\n",
              "0    1962\n",
              "4    1924\n",
              "8    1912\n",
              "5    1761\n",
              "Name: 0, dtype: int64"
            ]
          },
          "metadata": {},
          "execution_count": 14
        }
      ]
    },
    {
      "cell_type": "code",
      "source": [
        "# sampling:\n",
        "train= train.groupby(0).sample(1761,random_state=42)\n",
        "train=train.sort_index()\n",
        "train.reset_index(drop= True, inplace= True)\n",
        "train.shape"
      ],
      "metadata": {
        "colab": {
          "base_uri": "https://localhost:8080/"
        },
        "id": "zxrfnHIRgA64",
        "outputId": "5c903684-377b-4837-8c97-3d83fed871c9"
      },
      "execution_count": 15,
      "outputs": [
        {
          "output_type": "execute_result",
          "data": {
            "text/plain": [
              "(17610, 785)"
            ]
          },
          "metadata": {},
          "execution_count": 15
        }
      ]
    },
    {
      "cell_type": "code",
      "source": [
        "plt.figure(figsize= [10, 5])\n",
        "ax = sns.countplot(x= train[0], palette=\"icefire\")\n",
        "\n",
        "for p in ax.patches:\n",
        "    ax.annotate('{}'.format(p.get_height()), (p.get_x()+.1, p.get_height()+0.01*p.get_height()))\n",
        "plt.show()\n",
        "\n",
        "train[0].value_counts()"
      ],
      "metadata": {
        "colab": {
          "base_uri": "https://localhost:8080/",
          "height": 525
        },
        "id": "1gD-vXQ7h4ah",
        "outputId": "1e2502b7-b527-4534-8ce9-de14a5e2cdff"
      },
      "execution_count": 16,
      "outputs": [
        {
          "output_type": "display_data",
          "data": {
            "text/plain": [
              "<Figure size 720x360 with 1 Axes>"
            ],
            "image/png": "[encoded data removed]"
          },
          "metadata": {
            "needs_background": "light"
          }
        },
        {
          "output_type": "execute_result",
          "data": {
            "text/plain": [
              "6    1761\n",
              "5    1761\n",
              "9    1761\n",
              "2    1761\n",
              "0    1761\n",
              "7    1761\n",
              "8    1761\n",
              "4    1761\n",
              "3    1761\n",
              "1    1761\n",
              "Name: 0, dtype: int64"
            ]
          },
          "metadata": {},
          "execution_count": 16
        }
      ]
    },
    {
      "cell_type": "code",
      "execution_count": 17,
      "metadata": {
        "_cell_guid": "86570a36-5c20-460a-9dfd-2070548532a7",
        "_execution_state": "idle",
        "_uuid": "1213b979d5ed3e0d13824d17d694c79d2ece92fa",
        "id": "y2Y-y2BB86Ox"
      },
      "outputs": [],
      "source": [
        "X_train = train.iloc[:, 1:] \n",
        "y_train = train.iloc[:, 0]\n",
        "\n",
        "# free some space\n",
        "del train "
      ]
    },
    {
      "cell_type": "markdown",
      "source": [
        "## `Test Data`"
      ],
      "metadata": {
        "id": "O3kRkAmadD_W"
      }
    },
    {
      "cell_type": "code",
      "source": [
        "plt.figure(figsize= [10, 5])\n",
        "ax = sns.countplot(x= test[0], palette=\"icefire\")\n",
        "\n",
        "for p in ax.patches:\n",
        "    ax.annotate('{}'.format(p.get_height()), (p.get_x()+.1, p.get_height()+0.01*p.get_height()))\n",
        "plt.show()\n",
        "\n",
        "test[0].value_counts()"
      ],
      "metadata": {
        "colab": {
          "base_uri": "https://localhost:8080/",
          "height": 525
        },
        "outputId": "81bae4b1-917e-42c1-be1b-3e91fe8fb051",
        "id": "bBvnNKbeibws"
      },
      "execution_count": 18,
      "outputs": [
        {
          "output_type": "display_data",
          "data": {
            "text/plain": [
              "<Figure size 720x360 with 1 Axes>"
            ],
            "image/png": "[encoded data removed]"
          },
          "metadata": {
            "needs_background": "light"
          }
        },
        {
          "output_type": "execute_result",
          "data": {
            "text/plain": [
              "1    1135\n",
              "2    1032\n",
              "7    1028\n",
              "3    1010\n",
              "9    1009\n",
              "4     982\n",
              "0     980\n",
              "8     974\n",
              "6     958\n",
              "5     892\n",
              "Name: 0, dtype: int64"
            ]
          },
          "metadata": {},
          "execution_count": 18
        }
      ]
    },
    {
      "cell_type": "code",
      "source": [
        "# sampling:\n",
        "test= test.groupby(0).sample(892,random_state=42)\n",
        "test=test.sort_index()\n",
        "test.reset_index(drop= True, inplace= True)\n",
        "test.shape"
      ],
      "metadata": {
        "colab": {
          "base_uri": "https://localhost:8080/"
        },
        "outputId": "d2fffb26-9798-492a-d022-0bba188df1b2",
        "id": "U2Aj9M9Hibwt"
      },
      "execution_count": 19,
      "outputs": [
        {
          "output_type": "execute_result",
          "data": {
            "text/plain": [
              "(8920, 785)"
            ]
          },
          "metadata": {},
          "execution_count": 19
        }
      ]
    },
    {
      "cell_type": "code",
      "source": [
        "plt.figure(figsize= [10, 5])\n",
        "ax = sns.countplot(x= test[0], palette=\"icefire\")\n",
        "\n",
        "for p in ax.patches:\n",
        "    ax.annotate('{}'.format(p.get_height()), (p.get_x()+.1, p.get_height()+0.01*p.get_height()))\n",
        "plt.show()\n",
        "\n",
        "test[0].value_counts()"
      ],
      "metadata": {
        "colab": {
          "base_uri": "https://localhost:8080/",
          "height": 525
        },
        "outputId": "c8f0d4d8-7d54-4953-9687-affef0b62a87",
        "id": "yncly292ibwt"
      },
      "execution_count": 20,
      "outputs": [
        {
          "output_type": "display_data",
          "data": {
            "text/plain": [
              "<Figure size 720x360 with 1 Axes>"
            ],
            "image/png": "[encoded data removed]"
          },
          "metadata": {
            "needs_background": "light"
          }
        },
        {
          "output_type": "execute_result",
          "data": {
            "text/plain": [
              "7    892\n",
              "2    892\n",
              "0    892\n",
              "4    892\n",
              "1    892\n",
              "9    892\n",
              "5    892\n",
              "6    892\n",
              "3    892\n",
              "8    892\n",
              "Name: 0, dtype: int64"
            ]
          },
          "metadata": {},
          "execution_count": 20
        }
      ]
    },
    {
      "cell_type": "code",
      "execution_count": 21,
      "metadata": {
        "_cell_guid": "86570a36-5c20-460a-9dfd-2070548532a7",
        "_execution_state": "idle",
        "_uuid": "1213b979d5ed3e0d13824d17d694c79d2ece92fa",
        "id": "oOxAxPa1ibwu"
      },
      "outputs": [],
      "source": [
        "X_test = test.iloc[:, 1:] \n",
        "y_test = test.iloc[:, 0]\n",
        "\n",
        "# free some space\n",
        "del test "
      ]
    },
    {
      "cell_type": "markdown",
      "metadata": {
        "_cell_guid": "6812040d-80ad-43d2-a571-275f4f20067b",
        "_uuid": "2954681f25f0dcbe986e6914396cdbce61db591f",
        "id": "2Q-4aVww86O8"
      },
      "source": [
        "## 2.4 Normalization"
      ]
    },
    {
      "cell_type": "markdown",
      "metadata": {
        "_cell_guid": "159d5854-437a-4d0f-bc1e-fc3f7e43d178",
        "_uuid": "0ecf4b52510ab7957d0d4eb646c0aa1ba5986273",
        "id": "WMJTqYts86O8"
      },
      "source": [
        "We perform a grayscale normalization to reduce the effect of illumination's differences. \n",
        "\n",
        "Moreover the CNN converg faster on [0..1] data than on [0..255]."
      ]
    },
    {
      "cell_type": "code",
      "execution_count": 22,
      "metadata": {
        "_cell_guid": "cdc4340b-6e24-4e12-be99-ac806098ff17",
        "_execution_state": "idle",
        "_uuid": "b5d4f8fcf2a967e2c7d57daedf95aa8c5ab7f8cb",
        "collapsed": true,
        "id": "Ye-0xCto86PA"
      },
      "outputs": [],
      "source": [
        "# Normalize the data\n",
        "X_train = X_train / 255.0\n",
        "X_test = X_test / 255.0"
      ]
    },
    {
      "cell_type": "markdown",
      "metadata": {
        "_cell_guid": "7413df94-bcb9-4f75-b174-c127d4445766",
        "_uuid": "a66741bf1ac597094f3a3166877008feef27c519",
        "id": "gwq5IjtN86PB"
      },
      "source": [
        "## 2.5 Reshape"
      ]
    },
    {
      "cell_type": "code",
      "source": [
        "print(X_train.shape)\n",
        "print(X_test.shape)"
      ],
      "metadata": {
        "colab": {
          "base_uri": "https://localhost:8080/"
        },
        "id": "dS6jT5kHlUno",
        "outputId": "5acaca08-5524-4bb2-a2c2-a82bb21f5d33"
      },
      "execution_count": 23,
      "outputs": [
        {
          "output_type": "stream",
          "name": "stdout",
          "text": [
            "(17610, 784)\n",
            "(8920, 784)\n"
          ]
        }
      ]
    },
    {
      "cell_type": "code",
      "execution_count": 24,
      "metadata": {
        "_cell_guid": "34b6a5f7-8fd2-4387-8ef4-c9dc19584fed",
        "_execution_state": "idle",
        "_uuid": "f0a6ad80dab8e0f2c2e46165ccd9cd82dd162bc3",
        "collapsed": true,
        "id": "gdg1n44N86PB"
      },
      "outputs": [],
      "source": [
        "# Reshape image in 3 dimensions (height = 28px, width = 28px , chanal = 1)\n",
        "X_train = X_train.values.reshape(-1,28,28,1)\n",
        "X_test = X_test.values.reshape(-1,28,28,1)"
      ]
    },
    {
      "cell_type": "code",
      "source": [
        "print(X_train.shape)\n",
        "print(X_test.shape)"
      ],
      "metadata": {
        "colab": {
          "base_uri": "https://localhost:8080/"
        },
        "id": "Poz1Mi-ylhW1",
        "outputId": "9cfc8a39-a91c-42e9-e916-753cc39fc6df"
      },
      "execution_count": 25,
      "outputs": [
        {
          "output_type": "stream",
          "name": "stdout",
          "text": [
            "(17610, 28, 28, 1)\n",
            "(8920, 28, 28, 1)\n"
          ]
        }
      ]
    },
    {
      "cell_type": "markdown",
      "metadata": {
        "_cell_guid": "8decd1ce-7b7e-431d-8458-eaca18e0e1f7",
        "_uuid": "f4fb5553e188d9956f5d8b3a5d275ab00ea667ce",
        "id": "d6t2YRh386PC"
      },
      "source": [
        "Train and test images (28px x 28px) has been stock into pandas.Dataframe as 1D vectors of 784 values. We reshape all data to 28x28x1 3D matrices. \n",
        "\n",
        "Keras requires an extra dimension in the end which correspond to channels. MNIST images are gray scaled so it use only one channel. For RGB images, there is 3 channels, we would have reshaped 784px vectors to 28x28x3 3D matrices. "
      ]
    },
    {
      "cell_type": "markdown",
      "metadata": {
        "_cell_guid": "32152fc3-a570-4d64-8a7d-6c689a4acd33",
        "_uuid": "d8abbbf31483b94e1b29d07c4c8253d1311648a7",
        "id": "TFdm4pCX86PH"
      },
      "source": [
        "## 2.6 Split training and valdiation set "
      ]
    },
    {
      "cell_type": "code",
      "execution_count": 26,
      "metadata": {
        "_cell_guid": "dcd25ebb-d845-4d32-9867-082e352b1396",
        "_execution_state": "idle",
        "_uuid": "b779ac76d8317647db92d5a88b4098d212d72884",
        "collapsed": true,
        "id": "3u05oDpu86PI"
      },
      "outputs": [],
      "source": [
        "# Split the train and the validation set for the fitting\n",
        "X_test, X_val, y_test, y_val = train_test_split(X_test, y_test, test_size = 0.4, random_state= 42)"
      ]
    },
    {
      "cell_type": "markdown",
      "metadata": {
        "_cell_guid": "3c99964f-4500-4f1c-947d-c67e644e34db",
        "_uuid": "72ed54a305eebf80e8b8b0f7eabde1332a5a85a3",
        "id": "tSqCg4eG86PJ"
      },
      "source": [
        "I choosed to split the test set in two parts : a fraction (40%) became the validation set which the model is evaluated and the rest (60%) is used to test the model.\n",
        "\n",
        "Since we have 42 000 training images of balanced labels (see 2.1 Load data), a random split of the train set doesn't cause some labels to be over represented in the validation set. Be carefull with some unbalanced dataset a simple random split could cause inaccurate evaluation during the validation. \n",
        "\n",
        "To avoid that, you could use stratify = True option in train_test_split function (**Only for >=0.17 sklearn versions**)."
      ]
    },
    {
      "cell_type": "markdown",
      "source": [
        "## Image Overview"
      ],
      "metadata": {
        "id": "Iul2zDqDtxql"
      }
    },
    {
      "cell_type": "markdown",
      "metadata": {
        "_cell_guid": "adbeacf0-0dc0-4675-b2df-9c9663750f32",
        "_uuid": "60eed15ec5bc0d354385301789ecb8538fc02267",
        "id": "6-5Eeubr86PJ"
      },
      "source": [
        "We can get a better sense for 20 of these examples by visualising the image and looking at the label."
      ]
    },
    {
      "cell_type": "code",
      "source": [
        "label_nums= list(range(10))                   # because the labels names is   0, 1, 2, ..... , 9\n",
        "label_nums"
      ],
      "metadata": {
        "colab": {
          "base_uri": "https://localhost:8080/"
        },
        "id": "8JYv_a7Hv7Ea",
        "outputId": "10f81edf-e6d7-4498-bdfb-a4bf3996a9f3"
      },
      "execution_count": 27,
      "outputs": [
        {
          "output_type": "execute_result",
          "data": {
            "text/plain": [
              "[0, 1, 2, 3, 4, 5, 6, 7, 8, 9]"
            ]
          },
          "metadata": {},
          "execution_count": 27
        }
      ]
    },
    {
      "cell_type": "markdown",
      "source": [
        "### Train set"
      ],
      "metadata": {
        "id": "EPZlvw2Py5N8"
      }
    },
    {
      "cell_type": "code",
      "source": [
        "plt.figure(figsize=(12,12))\n",
        "for i in range(0,20) :\n",
        "    plt.subplot(4,5,i+1)\n",
        "    plt.axis('off')\n",
        "    plt.imshow(X_train[i].reshape(28, 28), cmap='gray')           # <-- this line of code i can do it as -->  plt.imshow(X_train[i][:,:,0], cmap='gray')                   \n",
        "    nums = label_nums[int(np.array(y_train)[i])]\n",
        "    plt.title(nums)"
      ],
      "metadata": {
        "colab": {
          "base_uri": "https://localhost:8080/",
          "height": 673
        },
        "id": "rZP9wpDrnpLC",
        "outputId": "2d177743-4890-4bb0-a92e-9405c3be8cae"
      },
      "execution_count": 28,
      "outputs": [
        {
          "output_type": "display_data",
          "data": {
            "text/plain": [
              "<Figure size 864x864 with 20 Axes>"
            ],
            "image/png": "[encoded data removed]"
          },
          "metadata": {
            "needs_background": "light"
          }
        }
      ]
    },
    {
      "cell_type": "markdown",
      "source": [
        "### Test set"
      ],
      "metadata": {
        "id": "i6Lhfs98zOyK"
      }
    },
    {
      "cell_type": "code",
      "source": [
        "plt.figure(figsize=(12,12))\n",
        "for i in range(0,20) :\n",
        "    plt.subplot(4,5,i+1)\n",
        "    plt.axis('off')\n",
        "    plt.imshow(X_test[i].reshape(28, 28), cmap='gray')           # <-- this line of code i can do it as -->  plt.imshow(X_train[i][:,:,0], cmap='gray')                   \n",
        "    nums = label_nums[int(np.array(y_test)[i])]\n",
        "    plt.title(nums)"
      ],
      "metadata": {
        "colab": {
          "base_uri": "https://localhost:8080/",
          "height": 673
        },
        "id": "awA2crv_zNhi",
        "outputId": "e50dd0a3-4dc6-467a-f6ea-56064df781cb"
      },
      "execution_count": 29,
      "outputs": [
        {
          "output_type": "display_data",
          "data": {
            "text/plain": [
              "<Figure size 864x864 with 20 Axes>"
            ],
            "image/png": "[encoded data removed]"
          },
          "metadata": {
            "needs_background": "light"
          }
        }
      ]
    },
    {
      "cell_type": "markdown",
      "metadata": {
        "_cell_guid": "d5265777-aeb3-449d-b171-d88cad74c0a4",
        "_uuid": "5fa18b37a9acd9e098bac1d12264b0dd4310fdd3",
        "id": "HR78a72z86PL"
      },
      "source": [
        "# 3. CNN\n",
        "## 3.1 Define the model"
      ]
    },
    {
      "cell_type": "markdown",
      "metadata": {
        "_cell_guid": "504fa00e-148c-4364-9b68-218b3aaedfdb",
        "_uuid": "7697570491420f957f6e4d3569d51410b5277250",
        "id": "5CK47eaC86PL"
      },
      "source": [
        "I used the Keras Sequential API, where you have just to add one layer at a time, starting from the input.\n",
        "\n",
        "The first is the convolutional (Conv2D) layer. It is like a set of learnable filters. I choosed to set 32 filters for the two firsts conv2D layers and 64 filters for the two last ones. Each filter transforms a part of the image (defined by the kernel size) using the kernel filter. The kernel filter matrix is applied on the whole image. Filters can be seen as a transformation of the image.\n",
        "\n",
        "The CNN can isolate features that are useful everywhere from these transformed images (feature maps).\n",
        "\n",
        "The second important layer in CNN is the pooling (MaxPool2D) layer. This layer simply acts as a downsampling filter. It looks at the 2 neighboring pixels and picks the maximal value. These are used to reduce computational cost, and to some extent also reduce overfitting. We have to choose the pooling size (i.e the area size pooled each time) more the pooling dimension is high, more the downsampling is important. \n",
        "\n",
        "Combining convolutional and pooling layers, CNN are able to combine local features and learn more global features of the image.\n",
        "\n",
        "Dropout is a regularization method, where a proportion of nodes in the layer are randomly ignored (setting their wieghts to zero) for each training sample. This drops randomly a propotion of the network and forces the network to learn features in a distributed way. This technique also improves generalization and reduces the overfitting. \n",
        "\n",
        "'relu' is the rectifier (activation function max(0,x). The rectifier activation function is used to add non linearity to the network. \n",
        "\n",
        "The Flatten layer is use to convert the final feature maps into a one single 1D vector. This flattening step is needed so that you can make use of fully connected layers after some convolutional/maxpool layers. It combines all the found local features of the previous convolutional layers.\n",
        "\n",
        "In the end i used the features in two fully-connected (Dense) layers which is just artificial an neural networks (ANN) classifier. In the last layer(Dense(10,activation=\"softmax\")) the net outputs distribution of probability of each class."
      ]
    },
    {
      "cell_type": "code",
      "execution_count": 32,
      "metadata": {
        "_cell_guid": "1e0f3f88-2ad7-459e-8e02-aecc5f3511ae",
        "_execution_state": "idle",
        "_uuid": "f7991ef6871a26f9fa57acdcd460a69bab53e804",
        "collapsed": true,
        "id": "kBKv40wJ86PM"
      },
      "outputs": [],
      "source": [
        "# Set the CNN model \n",
        "# my CNN architechture is In -> [[Conv2D->relu]*2 -> MaxPool2D -> Dropout]*2 -> Flatten -> Dense -> Dropout -> Out\n",
        "\n",
        "model = Sequential()\n",
        "model.add(Conv2D(filters = 32, kernel_size = (5,5), padding = 'Same', activation ='relu', input_shape = (28,28,1)))\n",
        "model.add(Conv2D(filters = 32, kernel_size = (5,5),padding = 'Same', activation ='relu'))\n",
        "model.add(MaxPool2D(pool_size=(2,2)))\n",
        "model.add(Dropout(0.25))\n",
        "\n",
        "\n",
        "model.add(Conv2D(filters = 64, kernel_size = (3,3),padding = 'Same', activation ='relu'))\n",
        "model.add(Conv2D(filters = 64, kernel_size = (3,3),padding = 'Same', activation ='relu'))\n",
        "model.add(MaxPool2D(pool_size=(2,2), strides=(2,2)))\n",
        "model.add(Dropout(0.25))\n",
        "\n",
        "\n",
        "model.add(Flatten())\n",
        "model.add(Dense(256, activation = \"relu\"))\n",
        "model.add(Dropout(0.5))\n",
        "model.add(Dense(10, activation = \"softmax\"))"
      ]
    },
    {
      "cell_type": "code",
      "source": [
        "plot_model(model, show_shapes=True, show_layer_names=True, rankdir='TB', expand_nested=True)"
      ],
      "metadata": {
        "colab": {
          "base_uri": "https://localhost:8080/",
          "height": 1000
        },
        "id": "e7gFYMbA1QgS",
        "outputId": "88af59c6-186d-4862-fc4f-99189aa01025"
      },
      "execution_count": 33,
      "outputs": [
        {
          "output_type": "execute_result",
          "data": {
            "text/plain": [
              "<IPython.core.display.Image object>"
            ],
            "image/png": "[encoded data removed]"
          },
          "metadata": {},
          "execution_count": 33
        }
      ]
    },
    {
      "cell_type": "markdown",
      "metadata": {
        "_cell_guid": "0e26b6a3-ef9d-4ae5-9d79-d5e4b073251a",
        "_uuid": "7065512cf892ba49f0c06e239e3a20ff13667ef2",
        "id": "OYTz-R1e86PN"
      },
      "source": [
        "## 3.2 Set the optimizer and annealer\n",
        "\n",
        "Once our layers are added to the model, we need to set up a score function, a loss function and an optimisation algorithm.\n",
        "\n",
        "We define the loss function to measure how poorly our model performs on images with known labels. It is the error rate between the oberved labels and the predicted ones. We use a specific form for categorical classifications (>2 classes) called the \"categorical_crossentropy\".\n",
        "\n",
        "The most important function is the optimizer. This function will iteratively improve parameters (filters kernel values, weights and bias of neurons ...) in order to minimise the loss. \n",
        "\n",
        "I choosed RMSprop (with default values), it is a very effective optimizer. The RMSProp update adjusts the Adagrad method in a very simple way in an attempt to reduce its aggressive, monotonically decreasing learning rate.\n",
        "We could also have used Stochastic Gradient Descent ('sgd') optimizer, but it is slower than RMSprop.\n",
        "\n",
        "The metric function \"accuracy\" is used is to evaluate the performance our model.\n",
        "This metric function is similar to the loss function, except that the results from the metric evaluation are not used when training the model (only for evaluation)."
      ]
    },
    {
      "cell_type": "code",
      "execution_count": 38,
      "metadata": {
        "_cell_guid": "a4c55409-6a65-400a-b5e8-a1dc535429c0",
        "_execution_state": "idle",
        "_uuid": "420c704367b397b8255fefe9d882b35ac8929b95",
        "collapsed": true,
        "id": "efhCzBSj86PO"
      },
      "outputs": [],
      "source": [
        "# Define the optimizer\n",
        "optimizer = RMSprop(learning_rate=0.001, rho=0.9, epsilon=1e-08, decay=0.0)"
      ]
    },
    {
      "cell_type": "code",
      "execution_count": 39,
      "metadata": {
        "_cell_guid": "0bd89b79-1a74-40da-af9a-7a76a8b96ff2",
        "_execution_state": "idle",
        "_uuid": "b4c0288622227a3cd05479aa765e324dbb852f34",
        "collapsed": true,
        "id": "ZBrPy4jQ86PO"
      },
      "outputs": [],
      "source": [
        "# Compile the model\n",
        "model.compile(optimizer = optimizer , loss = \"sparse_categorical_crossentropy\", metrics=[\"accuracy\"])"
      ]
    },
    {
      "cell_type": "markdown",
      "source": [
        "# Callbacks"
      ],
      "metadata": {
        "id": "SzwW8sRU_5R0"
      }
    },
    {
      "cell_type": "markdown",
      "metadata": {
        "id": "pVMmhjhlnvYf"
      },
      "source": [
        "**Early Stop**\n",
        "\n",
        "To prevent over fitting we will stop the learning after `number` of epochs and `val_loss` value not decreased"
      ]
    },
    {
      "cell_type": "markdown",
      "metadata": {
        "id": "84slYFyOn7jA"
      },
      "source": [
        "**Learning Rate Reduction**\n",
        "\n",
        "We will reduce the learning rate when then accuracy not increase for 10 steps"
      ]
    },
    {
      "cell_type": "markdown",
      "metadata": {
        "id": "t0ibRoPzoEI2"
      },
      "source": [
        "**ModelCheckpoint**\n",
        "\n",
        "to save the best training model "
      ]
    },
    {
      "cell_type": "markdown",
      "metadata": {
        "_cell_guid": "35b826b6-c516-47d0-8469-f8d04a102118",
        "_uuid": "bb90d48f4426d1baeb0404f2431e04e3cade59df",
        "id": "MNGkA70f86PP"
      },
      "source": [
        "In order to make the optimizer converge faster and closest to the global minimum of the loss function, i used an annealing method of the learning rate (LR).\n",
        "\n",
        "The LR is the step by which the optimizer walks through the 'loss landscape'. The higher LR, the bigger are the steps and the quicker is the convergence. However the sampling is very poor with an high LR and the optimizer could probably fall into a local minima.\n",
        "\n",
        "Its better to have a decreasing learning rate during the training to reach efficiently the global minimum of the loss function. \n",
        "\n",
        "To keep the advantage of the fast computation time with a high LR, i decreased the LR dynamically every X steps (epochs) depending if it is necessary (when accuracy is not improved).\n",
        "\n",
        "With the ReduceLROnPlateau function from Keras.callbacks, i choose to reduce the LR by half if the accuracy is not improved after 3 epochs."
      ]
    },
    {
      "cell_type": "code",
      "source": [
        "MODEL_NUM= 1"
      ],
      "metadata": {
        "id": "GEjRjIBc3KWX"
      },
      "execution_count": 40,
      "outputs": []
    },
    {
      "cell_type": "code",
      "execution_count": 41,
      "metadata": {
        "_cell_guid": "b5987a18-6bbe-42a2-9d31-333ebc4f7af1",
        "_execution_state": "idle",
        "_uuid": "c4a5b4e462ec5362c47eef4fcc7956fd4e203307",
        "collapsed": true,
        "id": "csybLyGx86PP"
      },
      "outputs": [],
      "source": [
        "early_stopping = EarlyStopping(monitor='val_loss',  patience=15, mode='min')\n",
        "\n",
        "# Set a learning rate annealer\n",
        "learning_rate_reduction = ReduceLROnPlateau(monitor='val_accuracy', \n",
        "                                            patience=10, \n",
        "                                            verbose=1, \n",
        "                                            factor=0.5, \n",
        "                                            min_lr=0.00001)\n",
        "\n",
        "mc = ModelCheckpoint('/content/drive/MyDrive/CNN Examples/best_model'+str(MODEL_NUM)+'.h5', monitor='val_loss', mode='min', verbose=1, save_best_only=True)"
      ]
    },
    {
      "cell_type": "code",
      "source": [
        "y_train=  np.array(y_train)\n",
        "y_val=    np.array(y_val)\n",
        "y_test=   np.array(y_test)"
      ],
      "metadata": {
        "id": "Tmjir7lz3iBf"
      },
      "execution_count": 42,
      "outputs": []
    },
    {
      "cell_type": "code",
      "source": [
        "callback= [early_stopping, learning_rate_reduction, mc]\n",
        "History = model.fit(X_train, y_train, validation_data=(X_val, y_val), epochs=500, batch_size=370, verbose=1, callbacks= callback)"
      ],
      "metadata": {
        "colab": {
          "base_uri": "https://localhost:8080/"
        },
        "id": "CPK4sNhk4UAr",
        "outputId": "6ae3a87b-dca9-42cc-b15b-eec30e14d6ef"
      },
      "execution_count": 43,
      "outputs": [
        {
          "output_type": "stream",
          "name": "stdout",
          "text": [
            "Epoch 1/500\n",
            "48/48 [==============================] - ETA: 0s - loss: 0.8254 - accuracy: 0.7338\n",
            "Epoch 1: val_loss improved from inf to 0.19550, saving model to /content/drive/MyDrive/CNN Examples/best_model1.h5\n",
            "48/48 [==============================] - 14s 38ms/step - loss: 0.8254 - accuracy: 0.7338 - val_loss: 0.1955 - val_accuracy: 0.9386 - lr: 0.0010\n",
            "Epoch 2/500\n",
            "47/48 [============================>.] - ETA: 0s - loss: 0.1971 - accuracy: 0.9410\n",
            "Epoch 2: val_loss improved from 0.19550 to 0.09271, saving model to /content/drive/MyDrive/CNN Examples/best_model1.h5\n",
            "48/48 [==============================] - 1s 30ms/step - loss: 0.1977 - accuracy: 0.9409 - val_loss: 0.0927 - val_accuracy: 0.9678 - lr: 0.0010\n",
            "Epoch 3/500\n",
            "47/48 [============================>.] - ETA: 0s - loss: 0.1139 - accuracy: 0.9638\n",
            "Epoch 3: val_loss improved from 0.09271 to 0.06922, saving model to /content/drive/MyDrive/CNN Examples/best_model1.h5\n",
            "48/48 [==============================] - 1s 27ms/step - loss: 0.1140 - accuracy: 0.9638 - val_loss: 0.0692 - val_accuracy: 0.9793 - lr: 0.0010\n",
            "Epoch 4/500\n",
            "46/48 [===========================>..] - ETA: 0s - loss: 0.0886 - accuracy: 0.9733\n",
            "Epoch 4: val_loss improved from 0.06922 to 0.05899, saving model to /content/drive/MyDrive/CNN Examples/best_model1.h5\n",
            "48/48 [==============================] - 1s 26ms/step - loss: 0.0893 - accuracy: 0.9731 - val_loss: 0.0590 - val_accuracy: 0.9818 - lr: 0.0010\n",
            "Epoch 5/500\n",
            "46/48 [===========================>..] - ETA: 0s - loss: 0.0692 - accuracy: 0.9783\n",
            "Epoch 5: val_loss improved from 0.05899 to 0.04039, saving model to /content/drive/MyDrive/CNN Examples/best_model1.h5\n",
            "48/48 [==============================] - 1s 25ms/step - loss: 0.0690 - accuracy: 0.9785 - val_loss: 0.0404 - val_accuracy: 0.9851 - lr: 0.0010\n",
            "Epoch 6/500\n",
            "46/48 [===========================>..] - ETA: 0s - loss: 0.0617 - accuracy: 0.9807\n",
            "Epoch 6: val_loss did not improve from 0.04039\n",
            "48/48 [==============================] - 1s 26ms/step - loss: 0.0608 - accuracy: 0.9809 - val_loss: 0.0459 - val_accuracy: 0.9854 - lr: 0.0010\n",
            "Epoch 7/500\n",
            "46/48 [===========================>..] - ETA: 0s - loss: 0.0492 - accuracy: 0.9830\n",
            "Epoch 7: val_loss improved from 0.04039 to 0.02959, saving model to /content/drive/MyDrive/CNN Examples/best_model1.h5\n",
            "48/48 [==============================] - 1s 25ms/step - loss: 0.0497 - accuracy: 0.9827 - val_loss: 0.0296 - val_accuracy: 0.9899 - lr: 0.0010\n",
            "Epoch 8/500\n",
            "47/48 [============================>.] - ETA: 0s - loss: 0.0425 - accuracy: 0.9863\n",
            "Epoch 8: val_loss did not improve from 0.02959\n",
            "48/48 [==============================] - 1s 25ms/step - loss: 0.0424 - accuracy: 0.9864 - val_loss: 0.0425 - val_accuracy: 0.9857 - lr: 0.0010\n",
            "Epoch 9/500\n",
            "46/48 [===========================>..] - ETA: 0s - loss: 0.0360 - accuracy: 0.9888\n",
            "Epoch 9: val_loss improved from 0.02959 to 0.02720, saving model to /content/drive/MyDrive/CNN Examples/best_model1.h5\n",
            "48/48 [==============================] - 1s 26ms/step - loss: 0.0357 - accuracy: 0.9890 - val_loss: 0.0272 - val_accuracy: 0.9916 - lr: 0.0010\n",
            "Epoch 10/500\n",
            "46/48 [===========================>..] - ETA: 0s - loss: 0.0331 - accuracy: 0.9896\n",
            "Epoch 10: val_loss did not improve from 0.02720\n",
            "48/48 [==============================] - 1s 24ms/step - loss: 0.0329 - accuracy: 0.9896 - val_loss: 0.0326 - val_accuracy: 0.9896 - lr: 0.0010\n",
            "Epoch 11/500\n",
            "46/48 [===========================>..] - ETA: 0s - loss: 0.0316 - accuracy: 0.9891\n",
            "Epoch 11: val_loss did not improve from 0.02720\n",
            "48/48 [==============================] - 1s 24ms/step - loss: 0.0311 - accuracy: 0.9893 - val_loss: 0.0288 - val_accuracy: 0.9891 - lr: 0.0010\n",
            "Epoch 12/500\n",
            "46/48 [===========================>..] - ETA: 0s - loss: 0.0300 - accuracy: 0.9904\n",
            "Epoch 12: val_loss did not improve from 0.02720\n",
            "48/48 [==============================] - 1s 26ms/step - loss: 0.0296 - accuracy: 0.9903 - val_loss: 0.0300 - val_accuracy: 0.9908 - lr: 0.0010\n",
            "Epoch 13/500\n",
            "46/48 [===========================>..] - ETA: 0s - loss: 0.0239 - accuracy: 0.9922\n",
            "Epoch 13: val_loss did not improve from 0.02720\n",
            "48/48 [==============================] - 1s 24ms/step - loss: 0.0239 - accuracy: 0.9922 - val_loss: 0.0290 - val_accuracy: 0.9919 - lr: 0.0010\n",
            "Epoch 14/500\n",
            "46/48 [===========================>..] - ETA: 0s - loss: 0.0217 - accuracy: 0.9935\n",
            "Epoch 14: val_loss did not improve from 0.02720\n",
            "48/48 [==============================] - 1s 24ms/step - loss: 0.0216 - accuracy: 0.9934 - val_loss: 0.0352 - val_accuracy: 0.9896 - lr: 0.0010\n",
            "Epoch 15/500\n",
            "46/48 [===========================>..] - ETA: 0s - loss: 0.0226 - accuracy: 0.9931\n",
            "Epoch 15: val_loss improved from 0.02720 to 0.02446, saving model to /content/drive/MyDrive/CNN Examples/best_model1.h5\n",
            "48/48 [==============================] - 1s 25ms/step - loss: 0.0221 - accuracy: 0.9932 - val_loss: 0.0245 - val_accuracy: 0.9938 - lr: 0.0010\n",
            "Epoch 16/500\n",
            "48/48 [==============================] - ETA: 0s - loss: 0.0177 - accuracy: 0.9941\n",
            "Epoch 16: val_loss did not improve from 0.02446\n",
            "48/48 [==============================] - 1s 28ms/step - loss: 0.0177 - accuracy: 0.9941 - val_loss: 0.0267 - val_accuracy: 0.9933 - lr: 0.0010\n",
            "Epoch 17/500\n",
            "48/48 [==============================] - ETA: 0s - loss: 0.0156 - accuracy: 0.9947\n",
            "Epoch 17: val_loss did not improve from 0.02446\n",
            "48/48 [==============================] - 1s 31ms/step - loss: 0.0156 - accuracy: 0.9947 - val_loss: 0.0347 - val_accuracy: 0.9916 - lr: 0.0010\n",
            "Epoch 18/500\n",
            "47/48 [============================>.] - ETA: 0s - loss: 0.0152 - accuracy: 0.9947\n",
            "Epoch 18: val_loss did not improve from 0.02446\n",
            "48/48 [==============================] - 1s 27ms/step - loss: 0.0151 - accuracy: 0.9947 - val_loss: 0.0288 - val_accuracy: 0.9938 - lr: 0.0010\n",
            "Epoch 19/500\n",
            "46/48 [===========================>..] - ETA: 0s - loss: 0.0148 - accuracy: 0.9953\n",
            "Epoch 19: val_loss did not improve from 0.02446\n",
            "48/48 [==============================] - 1s 24ms/step - loss: 0.0146 - accuracy: 0.9953 - val_loss: 0.0477 - val_accuracy: 0.9893 - lr: 0.0010\n",
            "Epoch 20/500\n",
            "48/48 [==============================] - ETA: 0s - loss: 0.0185 - accuracy: 0.9944\n",
            "Epoch 20: val_loss did not improve from 0.02446\n",
            "48/48 [==============================] - 1s 24ms/step - loss: 0.0185 - accuracy: 0.9944 - val_loss: 0.0374 - val_accuracy: 0.9879 - lr: 0.0010\n",
            "Epoch 21/500\n",
            "46/48 [===========================>..] - ETA: 0s - loss: 0.0137 - accuracy: 0.9958\n",
            "Epoch 21: val_loss did not improve from 0.02446\n",
            "48/48 [==============================] - 1s 26ms/step - loss: 0.0137 - accuracy: 0.9959 - val_loss: 0.0291 - val_accuracy: 0.9919 - lr: 0.0010\n",
            "Epoch 22/500\n",
            "46/48 [===========================>..] - ETA: 0s - loss: 0.0129 - accuracy: 0.9955\n",
            "Epoch 22: val_loss did not improve from 0.02446\n",
            "48/48 [==============================] - 1s 26ms/step - loss: 0.0126 - accuracy: 0.9956 - val_loss: 0.0353 - val_accuracy: 0.9908 - lr: 0.0010\n",
            "Epoch 23/500\n",
            "46/48 [===========================>..] - ETA: 0s - loss: 0.0125 - accuracy: 0.9960\n",
            "Epoch 23: val_loss did not improve from 0.02446\n",
            "48/48 [==============================] - 1s 26ms/step - loss: 0.0126 - accuracy: 0.9959 - val_loss: 0.0490 - val_accuracy: 0.9877 - lr: 0.0010\n",
            "Epoch 24/500\n",
            "46/48 [===========================>..] - ETA: 0s - loss: 0.0132 - accuracy: 0.9959\n",
            "Epoch 24: val_loss did not improve from 0.02446\n",
            "48/48 [==============================] - 1s 25ms/step - loss: 0.0131 - accuracy: 0.9958 - val_loss: 0.0274 - val_accuracy: 0.9936 - lr: 0.0010\n",
            "Epoch 25/500\n",
            "46/48 [===========================>..] - ETA: 0s - loss: 0.0095 - accuracy: 0.9967\n",
            "Epoch 25: ReduceLROnPlateau reducing learning rate to 0.0005000000237487257.\n",
            "\n",
            "Epoch 25: val_loss did not improve from 0.02446\n",
            "48/48 [==============================] - 1s 24ms/step - loss: 0.0097 - accuracy: 0.9966 - val_loss: 0.0287 - val_accuracy: 0.9919 - lr: 0.0010\n",
            "Epoch 26/500\n",
            "46/48 [===========================>..] - ETA: 0s - loss: 0.0071 - accuracy: 0.9980\n",
            "Epoch 26: val_loss did not improve from 0.02446\n",
            "48/48 [==============================] - 1s 26ms/step - loss: 0.0072 - accuracy: 0.9979 - val_loss: 0.0252 - val_accuracy: 0.9938 - lr: 5.0000e-04\n",
            "Epoch 27/500\n",
            "46/48 [===========================>..] - ETA: 0s - loss: 0.0050 - accuracy: 0.9981\n",
            "Epoch 27: val_loss did not improve from 0.02446\n",
            "48/48 [==============================] - 1s 24ms/step - loss: 0.0051 - accuracy: 0.9980 - val_loss: 0.0283 - val_accuracy: 0.9936 - lr: 5.0000e-04\n",
            "Epoch 28/500\n",
            "46/48 [===========================>..] - ETA: 0s - loss: 0.0055 - accuracy: 0.9981\n",
            "Epoch 28: val_loss did not improve from 0.02446\n",
            "48/48 [==============================] - 1s 26ms/step - loss: 0.0053 - accuracy: 0.9981 - val_loss: 0.0259 - val_accuracy: 0.9938 - lr: 5.0000e-04\n",
            "Epoch 29/500\n",
            "46/48 [===========================>..] - ETA: 0s - loss: 0.0049 - accuracy: 0.9981\n",
            "Epoch 29: val_loss did not improve from 0.02446\n",
            "48/48 [==============================] - 1s 24ms/step - loss: 0.0048 - accuracy: 0.9981 - val_loss: 0.0326 - val_accuracy: 0.9924 - lr: 5.0000e-04\n",
            "Epoch 30/500\n",
            "46/48 [===========================>..] - ETA: 0s - loss: 0.0041 - accuracy: 0.9987\n",
            "Epoch 30: val_loss did not improve from 0.02446\n",
            "48/48 [==============================] - 1s 25ms/step - loss: 0.0046 - accuracy: 0.9986 - val_loss: 0.0275 - val_accuracy: 0.9941 - lr: 5.0000e-04\n"
          ]
        }
      ]
    },
    {
      "cell_type": "code",
      "source": [
        "model = load_model('/content/drive/MyDrive/CNN Examples/best_model'+str(MODEL_NUM)+'.h5')"
      ],
      "metadata": {
        "id": "FBjNqWQ14ULp"
      },
      "execution_count": 44,
      "outputs": []
    },
    {
      "cell_type": "code",
      "source": [
        "accuracy = History.history['accuracy']\n",
        "val_accuracy = History.history['val_accuracy']\n",
        "loss = History.history['loss']\n",
        "val_loss = History.history['val_loss']\n",
        "epochs = range(len(accuracy))\n",
        "\n",
        "plt.figure(figsize=(8, 5))\n",
        "plt.plot(epochs, accuracy, 'bo')\n",
        "plt.plot(epochs, val_accuracy, 'r')\n",
        "plt.title('Training and validation accuracy')\n",
        "plt.legend(['Training accuracy', 'Validation accuracy'])\n",
        "plt.figure(figsize=(8, 5))\n",
        "\n",
        "plt.plot(epochs, loss, 'bo')\n",
        "plt.plot(epochs, val_loss, 'r')\n",
        "plt.title('Training and validation loss')\n",
        "plt.legend(['Training loss', 'Validation loss' ])\n",
        "plt.show()"
      ],
      "metadata": {
        "colab": {
          "base_uri": "https://localhost:8080/",
          "height": 655
        },
        "id": "2IyhD25b7GeU",
        "outputId": "1662aa4f-a622-4a95-9af5-4bda3a720848"
      },
      "execution_count": 45,
      "outputs": [
        {
          "output_type": "display_data",
          "data": {
            "text/plain": [
              "<Figure size 576x360 with 1 Axes>"
            ],
            "image/png": "[encoded data removed]"
          },
          "metadata": {
            "needs_background": "light"
          }
        },
        {
          "output_type": "display_data",
          "data": {
            "text/plain": [
              "<Figure size 576x360 with 1 Axes>"
            ],
            "image/png": "[encoded data removed]"
          },
          "metadata": {
            "needs_background": "light"
          }
        }
      ]
    },
    {
      "cell_type": "markdown",
      "source": [
        "## Accuracy & loss of ***Training***"
      ],
      "metadata": {
        "id": "FmwJGVR3b71F"
      }
    },
    {
      "cell_type": "code",
      "metadata": {
        "colab": {
          "base_uri": "https://localhost:8080/"
        },
        "id": "u6bK1vy5k9BX",
        "outputId": "e8667b6d-42e8-4019-f9f1-79fbc380f5cf"
      },
      "source": [
        "loss, acc = model.evaluate(X_train, y_train, verbose=0)\n",
        "print('Train loss: {}'.format(loss))\n",
        "print('Train Accuracy: {}'.format(acc))"
      ],
      "execution_count": 46,
      "outputs": [
        {
          "output_type": "stream",
          "name": "stdout",
          "text": [
            "Train loss: 0.005186970811337233\n",
            "Train Accuracy: 0.9980124831199646\n"
          ]
        }
      ]
    },
    {
      "cell_type": "markdown",
      "source": [
        "## Accuracy & loss of ***Validation***"
      ],
      "metadata": {
        "id": "whXLs2UDcBQ8"
      }
    },
    {
      "cell_type": "code",
      "metadata": {
        "id": "e6G2vgGDrwR2",
        "colab": {
          "base_uri": "https://localhost:8080/"
        },
        "outputId": "a8389e45-1636-450a-fcb2-d893d4dd400e"
      },
      "source": [
        "loss, acc = model.evaluate(X_val, y_val, verbose=0)\n",
        "print('Test loss: {}'.format(loss))\n",
        "print('Test Accuracy: {}'.format(acc))"
      ],
      "execution_count": 47,
      "outputs": [
        {
          "output_type": "stream",
          "name": "stdout",
          "text": [
            "Test loss: 0.024462198838591576\n",
            "Test Accuracy: 0.9938340783119202\n"
          ]
        }
      ]
    },
    {
      "cell_type": "markdown",
      "source": [
        "## Accuracy & loss of ***Testing***"
      ],
      "metadata": {
        "id": "Fu6NJvt_cPmn"
      }
    },
    {
      "cell_type": "code",
      "source": [
        "loss, acc = model.evaluate(X_test, y_test, verbose=0)\n",
        "print('Final_Test loss: {}'.format(loss))\n",
        "print('Final_Test Accuracy: {}'.format(acc))"
      ],
      "metadata": {
        "colab": {
          "base_uri": "https://localhost:8080/"
        },
        "id": "BgrsU1lekia3",
        "outputId": "91a8302b-1866-4d6d-83c5-bbf1fa3d8eb5"
      },
      "execution_count": 48,
      "outputs": [
        {
          "output_type": "stream",
          "name": "stdout",
          "text": [
            "Final_Test loss: 0.03451309725642204\n",
            "Final_Test Accuracy: 0.9889760613441467\n"
          ]
        }
      ]
    },
    {
      "cell_type": "markdown",
      "source": [
        "# Prediction Images Overview"
      ],
      "metadata": {
        "id": "vS_8dPEmB6ph"
      }
    },
    {
      "cell_type": "markdown",
      "source": [
        "## ***Test*** Prediction"
      ],
      "metadata": {
        "id": "5KasQwNMDQOc"
      }
    },
    {
      "cell_type": "code",
      "metadata": {
        "_cell_guid": "e20ea650-9406-4743-8e70-37c1ed939787",
        "_uuid": "fd436566-065a-4dd6-97e9-22bb05fa2c53",
        "execution": {
          "iopub.execute_input": "2021-11-03T08:06:34.811186Z",
          "iopub.status.busy": "2021-11-03T08:06:34.810059Z",
          "iopub.status.idle": "2021-11-03T08:06:35.268434Z",
          "shell.execute_reply": "2021-11-03T08:06:35.268844Z",
          "shell.execute_reply.started": "2021-11-02T22:57:48.797639Z"
        },
        "jupyter": {
          "outputs_hidden": false
        },
        "papermill": {
          "duration": 0.561411,
          "end_time": "2021-11-03T08:06:35.269053",
          "exception": false,
          "start_time": "2021-11-03T08:06:34.707642",
          "status": "completed"
        },
        "tags": [],
        "id": "63a48165"
      },
      "source": [
        "predict_x = model.predict(X_test) \n",
        "y_test_predict = np.argmax(predict_x, axis=1)"
      ],
      "execution_count": 49,
      "outputs": []
    },
    {
      "cell_type": "code",
      "source": [
        "plt.figure(figsize=(15,25))\n",
        "\n",
        "for i in range(1,51):\n",
        "  plt.subplot(10,5,i)\n",
        "  plt.axis('off')\n",
        "  plt.imshow(X_test[i].reshape(28, 28), cmap='gray')\n",
        "  nums = label_nums[int(y_test_predict[i])]\n",
        "  plt.title(nums)"
      ],
      "metadata": {
        "colab": {
          "base_uri": "https://localhost:8080/",
          "height": 1000
        },
        "id": "S4urhOfj9h_7",
        "outputId": "2af36d6c-7246-404f-eaba-5bf7310466e9"
      },
      "execution_count": 55,
      "outputs": [
        {
          "output_type": "display_data",
          "data": {
            "text/plain": [
              "<Figure size 1080x1800 with 50 Axes>"
            ],
            "image/png": "[encoded data removed]"
          },
          "metadata": {
            "needs_background": "light"
          }
        }
      ]
    },
    {
      "cell_type": "code",
      "source": [
        ""
      ],
      "metadata": {
        "id": "7rpKpP88DEiX"
      },
      "execution_count": null,
      "outputs": []
    },
    {
      "cell_type": "markdown",
      "source": [
        "## ***Train*** Prediction"
      ],
      "metadata": {
        "id": "gs1RfJ_nDXie"
      }
    },
    {
      "cell_type": "code",
      "metadata": {
        "id": "edZ7oOtRu8k8"
      },
      "source": [
        "predict_x = model.predict(X_train) \n",
        "y_train_predict = np.argmax(predict_x, axis=1)"
      ],
      "execution_count": 56,
      "outputs": []
    },
    {
      "cell_type": "markdown",
      "source": [
        "## Train ***Confusion Matrix***:"
      ],
      "metadata": {
        "id": "SG1UZH47Db2m"
      }
    },
    {
      "cell_type": "code",
      "metadata": {
        "colab": {
          "base_uri": "https://localhost:8080/",
          "height": 405
        },
        "id": "QtW-8XRTK9QE",
        "outputId": "406f5221-1290-4699-f795-0f294be5ffee"
      },
      "source": [
        "cmat = confusion_matrix(y_train, y_train_predict, labels=label_nums)\n",
        "plt.figure(figsize=(8,6))\n",
        "sns.heatmap(cmat, annot = True, cbar = False, cmap='YlGnBu', fmt=\"d\", xticklabels=label_nums, yticklabels=label_nums);\n",
        "\n",
        "plt.xlabel('Predection')\n",
        "plt.ylabel('Real')\n"
      ],
      "execution_count": 57,
      "outputs": [
        {
          "output_type": "execute_result",
          "data": {
            "text/plain": [
              "Text(51.0, 0.5, 'Real')"
            ]
          },
          "metadata": {},
          "execution_count": 57
        },
        {
          "output_type": "display_data",
          "data": {
            "text/plain": [
              "<Figure size 576x432 with 1 Axes>"
            ],
            "image/png": "[encoded data removed]"
          },
          "metadata": {
            "needs_background": "light"
          }
        }
      ]
    },
    {
      "cell_type": "markdown",
      "source": [
        "## ***Train*** Report"
      ],
      "metadata": {
        "id": "U6R8LWxWDoSC"
      }
    },
    {
      "cell_type": "code",
      "metadata": {
        "colab": {
          "base_uri": "https://localhost:8080/"
        },
        "id": "Oo5y7Q3XMHDP",
        "outputId": "5d3843ca-40a7-420d-f154-508d5bbf3c9a"
      },
      "source": [
        "print(classification_report(y_train, y_train_predict))\n"
      ],
      "execution_count": 58,
      "outputs": [
        {
          "output_type": "stream",
          "name": "stdout",
          "text": [
            "              precision    recall  f1-score   support\n",
            "\n",
            "           0       1.00      1.00      1.00      1761\n",
            "           1       1.00      1.00      1.00      1761\n",
            "           2       1.00      1.00      1.00      1761\n",
            "           3       1.00      1.00      1.00      1761\n",
            "           4       1.00      0.99      1.00      1761\n",
            "           5       1.00      1.00      1.00      1761\n",
            "           6       1.00      1.00      1.00      1761\n",
            "           7       1.00      1.00      1.00      1761\n",
            "           8       0.99      1.00      1.00      1761\n",
            "           9       0.99      1.00      1.00      1761\n",
            "\n",
            "    accuracy                           1.00     17610\n",
            "   macro avg       1.00      1.00      1.00     17610\n",
            "weighted avg       1.00      1.00      1.00     17610\n",
            "\n"
          ]
        }
      ]
    },
    {
      "cell_type": "markdown",
      "source": [
        "_____________________________________\n",
        "_____________________________________"
      ],
      "metadata": {
        "id": "u825U_oSeiJQ"
      }
    },
    {
      "cell_type": "markdown",
      "source": [
        "## ***Validation*** Prediction"
      ],
      "metadata": {
        "id": "tmUkHS9HEAsF"
      }
    },
    {
      "cell_type": "code",
      "source": [
        "predict_x = model.predict(X_val) \n",
        "y_val_predict = np.argmax(predict_x, axis=1)"
      ],
      "metadata": {
        "id": "_02LoniHSC8x"
      },
      "execution_count": 59,
      "outputs": []
    },
    {
      "cell_type": "markdown",
      "source": [
        "## Validation ***Confusion Matrix***:"
      ],
      "metadata": {
        "id": "nxZNc1E1D0uI"
      }
    },
    {
      "cell_type": "code",
      "metadata": {
        "colab": {
          "base_uri": "https://localhost:8080/",
          "height": 405
        },
        "id": "Nyg4R-9uutct",
        "outputId": "83e80402-185a-46b1-a852-8cea83a03b18"
      },
      "source": [
        "cmat = confusion_matrix(y_val, y_val_predict, labels= label_nums)\n",
        "plt.figure(figsize=(8,6))\n",
        "sns.heatmap(cmat, annot = True, cbar = False, cmap='YlGnBu', fmt=\"d\", xticklabels=label_nums, yticklabels=label_nums);\n",
        "\n",
        "plt.xlabel('Predection')\n",
        "plt.ylabel('Real')\n"
      ],
      "execution_count": 60,
      "outputs": [
        {
          "output_type": "execute_result",
          "data": {
            "text/plain": [
              "Text(51.0, 0.5, 'Real')"
            ]
          },
          "metadata": {},
          "execution_count": 60
        },
        {
          "output_type": "display_data",
          "data": {
            "text/plain": [
              "<Figure size 576x432 with 1 Axes>"
            ],
            "image/png": "[encoded data removed]"
          },
          "metadata": {
            "needs_background": "light"
          }
        }
      ]
    },
    {
      "cell_type": "markdown",
      "source": [
        "## ***Validation*** Report"
      ],
      "metadata": {
        "id": "GfAj0OJdD0uI"
      }
    },
    {
      "cell_type": "code",
      "metadata": {
        "colab": {
          "base_uri": "https://localhost:8080/"
        },
        "id": "9tnVJuncLccO",
        "outputId": "951d8316-144e-4e61-ce47-e82e6accb7de"
      },
      "source": [
        "print(classification_report(y_val, y_val_predict))\n"
      ],
      "execution_count": 61,
      "outputs": [
        {
          "output_type": "stream",
          "name": "stdout",
          "text": [
            "              precision    recall  f1-score   support\n",
            "\n",
            "           0       1.00      0.99      1.00       383\n",
            "           1       1.00      1.00      1.00       352\n",
            "           2       1.00      0.99      1.00       363\n",
            "           3       0.99      1.00      0.99       345\n",
            "           4       1.00      1.00      1.00       357\n",
            "           5       0.99      0.99      0.99       338\n",
            "           6       1.00      0.99      0.99       353\n",
            "           7       0.99      1.00      0.99       351\n",
            "           8       0.99      0.99      0.99       368\n",
            "           9       0.99      0.99      0.99       358\n",
            "\n",
            "    accuracy                           0.99      3568\n",
            "   macro avg       0.99      0.99      0.99      3568\n",
            "weighted avg       0.99      0.99      0.99      3568\n",
            "\n"
          ]
        }
      ]
    },
    {
      "cell_type": "markdown",
      "source": [
        "_____________________________________\n",
        "_____________________________________"
      ],
      "metadata": {
        "id": "sCEcSKVBemfR"
      }
    },
    {
      "cell_type": "markdown",
      "source": [
        "## Test ***Confusion Matrix***:"
      ],
      "metadata": {
        "id": "EcJ_Df0qEAsG"
      }
    },
    {
      "cell_type": "code",
      "source": [
        "cmat = confusion_matrix(y_test, y_test_predict, labels=label_nums)\n",
        "plt.figure(figsize=(8,6))\n",
        "sns.heatmap(cmat, annot = True, cbar = False, cmap='YlGnBu', fmt=\"d\", xticklabels=label_nums, yticklabels=label_nums);\n",
        "\n",
        "plt.xlabel('Predection')\n",
        "plt.ylabel('Real')\n"
      ],
      "metadata": {
        "colab": {
          "base_uri": "https://localhost:8080/",
          "height": 405
        },
        "id": "X5ChCiog1bso",
        "outputId": "6b1464e4-e08c-48db-dc3b-2f0f58308e20"
      },
      "execution_count": 62,
      "outputs": [
        {
          "output_type": "execute_result",
          "data": {
            "text/plain": [
              "Text(51.0, 0.5, 'Real')"
            ]
          },
          "metadata": {},
          "execution_count": 62
        },
        {
          "output_type": "display_data",
          "data": {
            "text/plain": [
              "<Figure size 576x432 with 1 Axes>"
            ],
            "image/png": "[encoded data removed]"
          },
          "metadata": {
            "needs_background": "light"
          }
        }
      ]
    },
    {
      "cell_type": "markdown",
      "source": [
        "## ***Test*** Report"
      ],
      "metadata": {
        "id": "RDr_MWySEAsH"
      }
    },
    {
      "cell_type": "code",
      "source": [
        "print(classification_report(y_test, y_test_predict))"
      ],
      "metadata": {
        "colab": {
          "base_uri": "https://localhost:8080/"
        },
        "id": "gmyMqt-zPzO-",
        "outputId": "a9b81c58-12b5-4bf1-e378-8e7609597649"
      },
      "execution_count": 63,
      "outputs": [
        {
          "output_type": "stream",
          "name": "stdout",
          "text": [
            "              precision    recall  f1-score   support\n",
            "\n",
            "           0       0.98      0.99      0.99       509\n",
            "           1       0.99      0.99      0.99       540\n",
            "           2       0.99      1.00      0.99       529\n",
            "           3       0.98      0.99      0.99       547\n",
            "           4       0.99      0.99      0.99       535\n",
            "           5       0.99      0.99      0.99       554\n",
            "           6       0.99      0.98      0.99       539\n",
            "           7       0.99      1.00      0.99       541\n",
            "           8       0.99      0.98      0.99       524\n",
            "           9       0.98      0.98      0.98       534\n",
            "\n",
            "    accuracy                           0.99      5352\n",
            "   macro avg       0.99      0.99      0.99      5352\n",
            "weighted avg       0.99      0.99      0.99      5352\n",
            "\n"
          ]
        }
      ]
    },
    {
      "cell_type": "markdown",
      "source": [
        "_____\n",
        "_____\n",
        "_____\n",
        "_____\n",
        "_____\n",
        "_____\n",
        "_____\n",
        "_____\n",
        "_____\n",
        "_____\n",
        "_____\n",
        "_____"
      ],
      "metadata": {
        "id": "lKtCw5iHE_iq"
      }
    },
    {
      "cell_type": "markdown",
      "source": [
        "#### We will fit the model again with data augmentation"
      ],
      "metadata": {
        "id": "25ZxdHQZFZcd"
      }
    },
    {
      "cell_type": "markdown",
      "metadata": {
        "_cell_guid": "241a0f4f-13f5-4b13-be1e-4e3e4a714c06",
        "_uuid": "f24df64b223e0177c94025b6767ab19b722c5386",
        "id": "GPOqD1LN86PR"
      },
      "source": [
        "## 3.3 Data augmentation "
      ]
    },
    {
      "cell_type": "markdown",
      "metadata": {
        "_cell_guid": "e2d41e30-0724-40fb-a901-750e514ba9f9",
        "_uuid": "9e498b91419439f0fa791e595f202d9a0d56ad6b",
        "id": "lKIKSRTK86PR"
      },
      "source": [
        "In order to avoid overfitting problem, we need to expand artificially our handwritten digit dataset. We can make your existing dataset even larger. The idea is to alter the training data with small transformations to reproduce the variations occuring when someone is writing a digit.\n",
        "\n",
        "For example, the number is not centered \n",
        "The scale is not the same (some who write with big/small numbers)\n",
        "The image is rotated...\n",
        "\n",
        "Approaches that alter the training data in ways that change the array representation while keeping the label the same are known as data augmentation techniques. Some popular augmentations people use are grayscales, horizontal flips, vertical flips, random crops, color jitters, translations, rotations, and much more. \n",
        "\n",
        "By applying just a couple of these transformations to our training data, we can easily double or triple the number of training examples and create a very robust model.\n",
        "\n",
        "The improvement is important : \n",
        "   - Without data augmentation i obtained an accuracy of 98.114%\n",
        "   - With data augmentation i achieved 99.67% of accuracy"
      ]
    },
    {
      "cell_type": "code",
      "execution_count": 65,
      "metadata": {
        "_cell_guid": "b342befe-1a6f-44bf-8dab-28033a729122",
        "_execution_state": "idle",
        "_uuid": "21d6192c87d92d497c797656474bccd9cefc5647",
        "collapsed": true,
        "id": "tb0EMLkw86PS"
      },
      "outputs": [],
      "source": [
        "# With data augmentation to prevent overfitting (accuracy 0.99286)\n",
        "\n",
        "datagen = ImageDataGenerator(\n",
        "          featurewise_center=False,             # set input mean to 0 over the dataset\n",
        "          samplewise_center=False,              # set each sample mean to 0\n",
        "          featurewise_std_normalization=False,  # divide inputs by std of the dataset\n",
        "          samplewise_std_normalization=False,   # divide each input by its std\n",
        "          zca_whitening=False,                  # apply ZCA whitening\n",
        "          rotation_range=10,                    # randomly rotate images in the range (degrees, 0 to 180)\n",
        "          zoom_range = 0.1,                     # Randomly zoom image \n",
        "          width_shift_range=0.1,                # randomly shift images horizontally (fraction of total width)\n",
        "          height_shift_range=0.1,               # randomly shift images vertically (fraction of total height)\n",
        "          horizontal_flip=False,                # randomly flip images\n",
        "          vertical_flip=False)                  # randomly flip images\n",
        "\n",
        "\n",
        "datagen.fit(X_train)"
      ]
    },
    {
      "cell_type": "markdown",
      "metadata": {
        "_cell_guid": "22f80b8a-d4f6-4a34-b33d-ff7334f45d94",
        "_uuid": "51f16d0a5b9d9373438474e7defa7348359d7c18",
        "id": "g3iz6Fpb86PT"
      },
      "source": [
        "For the data augmentation, i choosed to :\n",
        "   - Randomly rotate some training images by 10 degrees\n",
        "   - Randomly  Zoom by 10% some training images\n",
        "   - Randomly shift images horizontally by 10% of the width\n",
        "   - Randomly shift images vertically by 10% of the height\n",
        "   \n",
        "I did not apply a vertical_flip nor horizontal_flip since it could have lead to misclassify symetrical numbers such as 6 and 9.\n",
        "\n",
        "Once our model is ready, we fit the training dataset ."
      ]
    },
    {
      "cell_type": "code",
      "source": [
        "batch_size = 86\n",
        "callback= [early_stopping, learning_rate_reduction, mc]"
      ],
      "metadata": {
        "id": "zrWugbjmF18G"
      },
      "execution_count": 69,
      "outputs": []
    },
    {
      "cell_type": "code",
      "execution_count": 74,
      "metadata": {
        "_cell_guid": "b453af8d-9736-43e3-b486-7a1cd7dd8909",
        "_execution_state": "idle",
        "_uuid": "cf36b3d029f95b553be02d612e097a9769ee8252",
        "colab": {
          "base_uri": "https://localhost:8080/"
        },
        "id": "Fyzmix3Z86PU",
        "outputId": "9bc87e90-16d7-452a-f8ed-607c620ff6b7"
      },
      "outputs": [
        {
          "output_type": "stream",
          "name": "stdout",
          "text": [
            "Epoch 1/500\n",
            "203/204 [============================>.] - ETA: 0s - loss: 0.1012 - accuracy: 0.9679\n",
            "Epoch 1: val_loss improved from 0.02365 to 0.02025, saving model to /content/drive/MyDrive/CNN Examples/best_model1.h5\n",
            "204/204 [==============================] - 7s 37ms/step - loss: 0.1013 - accuracy: 0.9679 - val_loss: 0.0202 - val_accuracy: 0.9933 - lr: 0.0010\n",
            "Epoch 2/500\n",
            "202/204 [============================>.] - ETA: 0s - loss: 0.0875 - accuracy: 0.9722\n",
            "Epoch 2: val_loss did not improve from 0.02025\n",
            "204/204 [==============================] - 5s 27ms/step - loss: 0.0878 - accuracy: 0.9719 - val_loss: 0.0339 - val_accuracy: 0.9871 - lr: 0.0010\n",
            "Epoch 3/500\n",
            "203/204 [============================>.] - ETA: 0s - loss: 0.0851 - accuracy: 0.9749\n",
            "Epoch 3: val_loss improved from 0.02025 to 0.01732, saving model to /content/drive/MyDrive/CNN Examples/best_model1.h5\n",
            "204/204 [==============================] - 6s 27ms/step - loss: 0.0847 - accuracy: 0.9751 - val_loss: 0.0173 - val_accuracy: 0.9947 - lr: 0.0010\n",
            "Epoch 4/500\n",
            "202/204 [============================>.] - ETA: 0s - loss: 0.0811 - accuracy: 0.9759\n",
            "Epoch 4: val_loss did not improve from 0.01732\n",
            "204/204 [==============================] - 6s 28ms/step - loss: 0.0810 - accuracy: 0.9758 - val_loss: 0.0178 - val_accuracy: 0.9938 - lr: 0.0010\n",
            "Epoch 5/500\n",
            "203/204 [============================>.] - ETA: 0s - loss: 0.0699 - accuracy: 0.9782\n",
            "Epoch 5: val_loss did not improve from 0.01732\n",
            "204/204 [==============================] - 5s 27ms/step - loss: 0.0699 - accuracy: 0.9781 - val_loss: 0.0179 - val_accuracy: 0.9952 - lr: 0.0010\n",
            "Epoch 6/500\n",
            "203/204 [============================>.] - ETA: 0s - loss: 0.0691 - accuracy: 0.9783\n",
            "Epoch 6: val_loss did not improve from 0.01732\n",
            "204/204 [==============================] - 5s 26ms/step - loss: 0.0693 - accuracy: 0.9783 - val_loss: 0.0187 - val_accuracy: 0.9936 - lr: 0.0010\n",
            "Epoch 7/500\n",
            "204/204 [==============================] - ETA: 0s - loss: 0.0653 - accuracy: 0.9805\n",
            "Epoch 7: val_loss improved from 0.01732 to 0.01621, saving model to /content/drive/MyDrive/CNN Examples/best_model1.h5\n",
            "204/204 [==============================] - 6s 27ms/step - loss: 0.0653 - accuracy: 0.9805 - val_loss: 0.0162 - val_accuracy: 0.9952 - lr: 0.0010\n",
            "Epoch 8/500\n",
            "204/204 [==============================] - ETA: 0s - loss: 0.0608 - accuracy: 0.9816\n",
            "Epoch 8: val_loss did not improve from 0.01621\n",
            "204/204 [==============================] - 5s 27ms/step - loss: 0.0608 - accuracy: 0.9816 - val_loss: 0.0208 - val_accuracy: 0.9944 - lr: 0.0010\n",
            "Epoch 9/500\n",
            "203/204 [============================>.] - ETA: 0s - loss: 0.0658 - accuracy: 0.9818\n",
            "Epoch 9: val_loss did not improve from 0.01621\n",
            "204/204 [==============================] - 5s 27ms/step - loss: 0.0656 - accuracy: 0.9818 - val_loss: 0.0173 - val_accuracy: 0.9941 - lr: 0.0010\n",
            "Epoch 10/500\n",
            "202/204 [============================>.] - ETA: 0s - loss: 0.0571 - accuracy: 0.9827\n",
            "Epoch 10: val_loss did not improve from 0.01621\n",
            "204/204 [==============================] - 5s 27ms/step - loss: 0.0567 - accuracy: 0.9829 - val_loss: 0.0207 - val_accuracy: 0.9933 - lr: 0.0010\n",
            "Epoch 11/500\n",
            "202/204 [============================>.] - ETA: 0s - loss: 0.0629 - accuracy: 0.9812\n",
            "Epoch 11: val_loss did not improve from 0.01621\n",
            "204/204 [==============================] - 5s 27ms/step - loss: 0.0630 - accuracy: 0.9812 - val_loss: 0.0198 - val_accuracy: 0.9930 - lr: 0.0010\n",
            "Epoch 12/500\n",
            "203/204 [============================>.] - ETA: 0s - loss: 0.0527 - accuracy: 0.9846\n",
            "Epoch 12: val_loss did not improve from 0.01621\n",
            "204/204 [==============================] - 5s 27ms/step - loss: 0.0529 - accuracy: 0.9845 - val_loss: 0.0199 - val_accuracy: 0.9936 - lr: 0.0010\n",
            "Epoch 13/500\n",
            "204/204 [==============================] - ETA: 0s - loss: 0.0599 - accuracy: 0.9826\n",
            "Epoch 13: val_loss did not improve from 0.01621\n",
            "204/204 [==============================] - 6s 27ms/step - loss: 0.0599 - accuracy: 0.9826 - val_loss: 0.0211 - val_accuracy: 0.9927 - lr: 0.0010\n",
            "Epoch 14/500\n",
            "204/204 [==============================] - ETA: 0s - loss: 0.0543 - accuracy: 0.9839\n",
            "Epoch 14: val_loss did not improve from 0.01621\n",
            "204/204 [==============================] - 6s 30ms/step - loss: 0.0543 - accuracy: 0.9839 - val_loss: 0.0191 - val_accuracy: 0.9927 - lr: 0.0010\n",
            "Epoch 15/500\n",
            "203/204 [============================>.] - ETA: 0s - loss: 0.0565 - accuracy: 0.9841\n",
            "Epoch 15: ReduceLROnPlateau reducing learning rate to 0.0005000000237487257.\n",
            "\n",
            "Epoch 15: val_loss did not improve from 0.01621\n",
            "204/204 [==============================] - 5s 27ms/step - loss: 0.0563 - accuracy: 0.9841 - val_loss: 0.0172 - val_accuracy: 0.9930 - lr: 0.0010\n",
            "Epoch 16/500\n",
            "203/204 [============================>.] - ETA: 0s - loss: 0.0448 - accuracy: 0.9873\n",
            "Epoch 16: val_loss improved from 0.01621 to 0.01562, saving model to /content/drive/MyDrive/CNN Examples/best_model1.h5\n",
            "204/204 [==============================] - 6s 27ms/step - loss: 0.0446 - accuracy: 0.9873 - val_loss: 0.0156 - val_accuracy: 0.9950 - lr: 5.0000e-04\n",
            "Epoch 17/500\n",
            "204/204 [==============================] - ETA: 0s - loss: 0.0399 - accuracy: 0.9877\n",
            "Epoch 17: val_loss improved from 0.01562 to 0.01430, saving model to /content/drive/MyDrive/CNN Examples/best_model1.h5\n",
            "204/204 [==============================] - 5s 27ms/step - loss: 0.0399 - accuracy: 0.9877 - val_loss: 0.0143 - val_accuracy: 0.9955 - lr: 5.0000e-04\n",
            "Epoch 18/500\n",
            "202/204 [============================>.] - ETA: 0s - loss: 0.0418 - accuracy: 0.9881\n",
            "Epoch 18: val_loss did not improve from 0.01430\n",
            "204/204 [==============================] - 6s 27ms/step - loss: 0.0416 - accuracy: 0.9881 - val_loss: 0.0184 - val_accuracy: 0.9947 - lr: 5.0000e-04\n",
            "Epoch 19/500\n",
            "203/204 [============================>.] - ETA: 0s - loss: 0.0361 - accuracy: 0.9890\n",
            "Epoch 19: val_loss did not improve from 0.01430\n",
            "204/204 [==============================] - 6s 29ms/step - loss: 0.0361 - accuracy: 0.9890 - val_loss: 0.0157 - val_accuracy: 0.9947 - lr: 5.0000e-04\n",
            "Epoch 20/500\n",
            "203/204 [============================>.] - ETA: 0s - loss: 0.0399 - accuracy: 0.9890\n",
            "Epoch 20: val_loss improved from 0.01430 to 0.01391, saving model to /content/drive/MyDrive/CNN Examples/best_model1.h5\n",
            "204/204 [==============================] - 6s 27ms/step - loss: 0.0399 - accuracy: 0.9890 - val_loss: 0.0139 - val_accuracy: 0.9952 - lr: 5.0000e-04\n",
            "Epoch 21/500\n",
            "204/204 [==============================] - ETA: 0s - loss: 0.0352 - accuracy: 0.9889\n",
            "Epoch 21: val_loss did not improve from 0.01391\n",
            "204/204 [==============================] - 5s 27ms/step - loss: 0.0352 - accuracy: 0.9889 - val_loss: 0.0182 - val_accuracy: 0.9950 - lr: 5.0000e-04\n",
            "Epoch 22/500\n",
            "203/204 [============================>.] - ETA: 0s - loss: 0.0400 - accuracy: 0.9884\n",
            "Epoch 22: val_loss did not improve from 0.01391\n",
            "204/204 [==============================] - 5s 27ms/step - loss: 0.0398 - accuracy: 0.9885 - val_loss: 0.0171 - val_accuracy: 0.9958 - lr: 5.0000e-04\n",
            "Epoch 23/500\n",
            "203/204 [============================>.] - ETA: 0s - loss: 0.0373 - accuracy: 0.9882\n",
            "Epoch 23: val_loss did not improve from 0.01391\n",
            "204/204 [==============================] - 5s 27ms/step - loss: 0.0372 - accuracy: 0.9882 - val_loss: 0.0177 - val_accuracy: 0.9952 - lr: 5.0000e-04\n",
            "Epoch 24/500\n",
            "204/204 [==============================] - ETA: 0s - loss: 0.0380 - accuracy: 0.9885\n",
            "Epoch 24: val_loss improved from 0.01391 to 0.01380, saving model to /content/drive/MyDrive/CNN Examples/best_model1.h5\n",
            "204/204 [==============================] - 5s 27ms/step - loss: 0.0380 - accuracy: 0.9885 - val_loss: 0.0138 - val_accuracy: 0.9947 - lr: 5.0000e-04\n",
            "Epoch 25/500\n",
            "203/204 [============================>.] - ETA: 0s - loss: 0.0354 - accuracy: 0.9898\n",
            "Epoch 25: val_loss did not improve from 0.01380\n",
            "204/204 [==============================] - 5s 27ms/step - loss: 0.0353 - accuracy: 0.9899 - val_loss: 0.0162 - val_accuracy: 0.9958 - lr: 5.0000e-04\n",
            "Epoch 26/500\n",
            "203/204 [============================>.] - ETA: 0s - loss: 0.0395 - accuracy: 0.9889\n",
            "Epoch 26: val_loss did not improve from 0.01380\n",
            "204/204 [==============================] - 5s 27ms/step - loss: 0.0393 - accuracy: 0.9889 - val_loss: 0.0158 - val_accuracy: 0.9950 - lr: 5.0000e-04\n",
            "Epoch 27/500\n",
            "204/204 [==============================] - ETA: 0s - loss: 0.0402 - accuracy: 0.9893\n",
            "Epoch 27: val_loss did not improve from 0.01380\n",
            "204/204 [==============================] - 6s 27ms/step - loss: 0.0402 - accuracy: 0.9893 - val_loss: 0.0158 - val_accuracy: 0.9961 - lr: 5.0000e-04\n",
            "Epoch 28/500\n",
            "204/204 [==============================] - ETA: 0s - loss: 0.0362 - accuracy: 0.9893\n",
            "Epoch 28: val_loss did not improve from 0.01380\n",
            "204/204 [==============================] - 5s 27ms/step - loss: 0.0362 - accuracy: 0.9893 - val_loss: 0.0193 - val_accuracy: 0.9933 - lr: 5.0000e-04\n",
            "Epoch 29/500\n",
            "203/204 [============================>.] - ETA: 0s - loss: 0.0409 - accuracy: 0.9889\n",
            "Epoch 29: val_loss did not improve from 0.01380\n",
            "204/204 [==============================] - 9s 45ms/step - loss: 0.0409 - accuracy: 0.9888 - val_loss: 0.0154 - val_accuracy: 0.9950 - lr: 5.0000e-04\n",
            "Epoch 30/500\n",
            "204/204 [==============================] - ETA: 0s - loss: 0.0362 - accuracy: 0.9892\n",
            "Epoch 30: val_loss did not improve from 0.01380\n",
            "204/204 [==============================] - 9s 45ms/step - loss: 0.0362 - accuracy: 0.9892 - val_loss: 0.0177 - val_accuracy: 0.9950 - lr: 5.0000e-04\n",
            "Epoch 31/500\n",
            "203/204 [============================>.] - ETA: 0s - loss: 0.0349 - accuracy: 0.9889\n",
            "Epoch 31: val_loss did not improve from 0.01380\n",
            "204/204 [==============================] - 6s 27ms/step - loss: 0.0351 - accuracy: 0.9888 - val_loss: 0.0221 - val_accuracy: 0.9941 - lr: 5.0000e-04\n",
            "Epoch 32/500\n",
            "203/204 [============================>.] - ETA: 0s - loss: 0.0342 - accuracy: 0.9892\n",
            "Epoch 32: val_loss did not improve from 0.01380\n",
            "204/204 [==============================] - 6s 29ms/step - loss: 0.0347 - accuracy: 0.9891 - val_loss: 0.0278 - val_accuracy: 0.9927 - lr: 5.0000e-04\n",
            "Epoch 33/500\n",
            "202/204 [============================>.] - ETA: 0s - loss: 0.0362 - accuracy: 0.9897\n",
            "Epoch 33: val_loss did not improve from 0.01380\n",
            "204/204 [==============================] - 6s 28ms/step - loss: 0.0360 - accuracy: 0.9898 - val_loss: 0.0169 - val_accuracy: 0.9952 - lr: 5.0000e-04\n",
            "Epoch 34/500\n",
            "203/204 [============================>.] - ETA: 0s - loss: 0.0411 - accuracy: 0.9892\n",
            "Epoch 34: val_loss did not improve from 0.01380\n",
            "204/204 [==============================] - 5s 27ms/step - loss: 0.0415 - accuracy: 0.9891 - val_loss: 0.0255 - val_accuracy: 0.9927 - lr: 5.0000e-04\n",
            "Epoch 35/500\n",
            "202/204 [============================>.] - ETA: 0s - loss: 0.0379 - accuracy: 0.9893\n",
            "Epoch 35: val_loss did not improve from 0.01380\n",
            "204/204 [==============================] - 5s 27ms/step - loss: 0.0382 - accuracy: 0.9892 - val_loss: 0.0160 - val_accuracy: 0.9944 - lr: 5.0000e-04\n",
            "Epoch 36/500\n",
            "204/204 [==============================] - ETA: 0s - loss: 0.0396 - accuracy: 0.9891\n",
            "Epoch 36: val_loss improved from 0.01380 to 0.01362, saving model to /content/drive/MyDrive/CNN Examples/best_model1.h5\n",
            "204/204 [==============================] - 6s 27ms/step - loss: 0.0396 - accuracy: 0.9891 - val_loss: 0.0136 - val_accuracy: 0.9975 - lr: 5.0000e-04\n",
            "Epoch 37/500\n",
            "204/204 [==============================] - ETA: 0s - loss: 0.0398 - accuracy: 0.9893\n",
            "Epoch 37: val_loss did not improve from 0.01362\n",
            "204/204 [==============================] - 5s 27ms/step - loss: 0.0398 - accuracy: 0.9893 - val_loss: 0.0177 - val_accuracy: 0.9947 - lr: 5.0000e-04\n",
            "Epoch 38/500\n",
            "203/204 [============================>.] - ETA: 0s - loss: 0.0394 - accuracy: 0.9893\n",
            "Epoch 38: val_loss did not improve from 0.01362\n",
            "204/204 [==============================] - 5s 27ms/step - loss: 0.0393 - accuracy: 0.9893 - val_loss: 0.0156 - val_accuracy: 0.9955 - lr: 5.0000e-04\n",
            "Epoch 39/500\n",
            "203/204 [============================>.] - ETA: 0s - loss: 0.0372 - accuracy: 0.9893\n",
            "Epoch 39: val_loss did not improve from 0.01362\n",
            "204/204 [==============================] - 6s 27ms/step - loss: 0.0373 - accuracy: 0.9892 - val_loss: 0.0213 - val_accuracy: 0.9924 - lr: 5.0000e-04\n",
            "Epoch 40/500\n",
            "204/204 [==============================] - ETA: 0s - loss: 0.0380 - accuracy: 0.9898\n",
            "Epoch 40: val_loss did not improve from 0.01362\n",
            "204/204 [==============================] - 6s 27ms/step - loss: 0.0380 - accuracy: 0.9898 - val_loss: 0.0188 - val_accuracy: 0.9950 - lr: 5.0000e-04\n",
            "Epoch 41/500\n",
            "203/204 [============================>.] - ETA: 0s - loss: 0.0395 - accuracy: 0.9884\n",
            "Epoch 41: val_loss did not improve from 0.01362\n",
            "204/204 [==============================] - 6s 29ms/step - loss: 0.0394 - accuracy: 0.9884 - val_loss: 0.0153 - val_accuracy: 0.9941 - lr: 5.0000e-04\n",
            "Epoch 42/500\n",
            "202/204 [============================>.] - ETA: 0s - loss: 0.0370 - accuracy: 0.9896\n",
            "Epoch 42: val_loss did not improve from 0.01362\n",
            "204/204 [==============================] - 5s 27ms/step - loss: 0.0368 - accuracy: 0.9897 - val_loss: 0.0181 - val_accuracy: 0.9944 - lr: 5.0000e-04\n",
            "Epoch 43/500\n",
            "204/204 [==============================] - ETA: 0s - loss: 0.0451 - accuracy: 0.9886\n",
            "Epoch 43: val_loss did not improve from 0.01362\n",
            "204/204 [==============================] - 5s 27ms/step - loss: 0.0451 - accuracy: 0.9886 - val_loss: 0.0172 - val_accuracy: 0.9955 - lr: 5.0000e-04\n",
            "Epoch 44/500\n",
            "203/204 [============================>.] - ETA: 0s - loss: 0.0398 - accuracy: 0.9898\n",
            "Epoch 44: val_loss did not improve from 0.01362\n",
            "204/204 [==============================] - 5s 27ms/step - loss: 0.0398 - accuracy: 0.9898 - val_loss: 0.0161 - val_accuracy: 0.9952 - lr: 5.0000e-04\n",
            "Epoch 45/500\n",
            "204/204 [==============================] - ETA: 0s - loss: 0.0410 - accuracy: 0.9893\n",
            "Epoch 45: val_loss did not improve from 0.01362\n",
            "204/204 [==============================] - 6s 27ms/step - loss: 0.0410 - accuracy: 0.9893 - val_loss: 0.0160 - val_accuracy: 0.9950 - lr: 5.0000e-04\n",
            "Epoch 46/500\n",
            "204/204 [==============================] - ETA: 0s - loss: 0.0406 - accuracy: 0.9893\n",
            "Epoch 46: ReduceLROnPlateau reducing learning rate to 0.0002500000118743628.\n",
            "\n",
            "Epoch 46: val_loss did not improve from 0.01362\n",
            "204/204 [==============================] - 6s 28ms/step - loss: 0.0406 - accuracy: 0.9893 - val_loss: 0.0161 - val_accuracy: 0.9947 - lr: 5.0000e-04\n",
            "Epoch 47/500\n",
            "203/204 [============================>.] - ETA: 0s - loss: 0.0317 - accuracy: 0.9909\n",
            "Epoch 47: val_loss did not improve from 0.01362\n",
            "204/204 [==============================] - 6s 29ms/step - loss: 0.0317 - accuracy: 0.9910 - val_loss: 0.0155 - val_accuracy: 0.9964 - lr: 2.5000e-04\n",
            "Epoch 48/500\n",
            "202/204 [============================>.] - ETA: 0s - loss: 0.0349 - accuracy: 0.9905\n",
            "Epoch 48: val_loss did not improve from 0.01362\n",
            "204/204 [==============================] - 6s 27ms/step - loss: 0.0347 - accuracy: 0.9905 - val_loss: 0.0156 - val_accuracy: 0.9950 - lr: 2.5000e-04\n",
            "Epoch 49/500\n",
            "204/204 [==============================] - ETA: 0s - loss: 0.0294 - accuracy: 0.9908\n",
            "Epoch 49: val_loss did not improve from 0.01362\n",
            "204/204 [==============================] - 6s 28ms/step - loss: 0.0294 - accuracy: 0.9908 - val_loss: 0.0155 - val_accuracy: 0.9952 - lr: 2.5000e-04\n",
            "Epoch 50/500\n",
            "204/204 [==============================] - ETA: 0s - loss: 0.0315 - accuracy: 0.9916\n",
            "Epoch 50: val_loss did not improve from 0.01362\n",
            "204/204 [==============================] - 5s 27ms/step - loss: 0.0315 - accuracy: 0.9916 - val_loss: 0.0156 - val_accuracy: 0.9950 - lr: 2.5000e-04\n",
            "Epoch 51/500\n",
            "203/204 [============================>.] - ETA: 0s - loss: 0.0301 - accuracy: 0.9912\n",
            "Epoch 51: val_loss improved from 0.01362 to 0.01258, saving model to /content/drive/MyDrive/CNN Examples/best_model1.h5\n",
            "204/204 [==============================] - 6s 27ms/step - loss: 0.0303 - accuracy: 0.9912 - val_loss: 0.0126 - val_accuracy: 0.9952 - lr: 2.5000e-04\n",
            "Epoch 52/500\n",
            "202/204 [============================>.] - ETA: 0s - loss: 0.0321 - accuracy: 0.9924\n",
            "Epoch 52: val_loss did not improve from 0.01258\n",
            "204/204 [==============================] - 6s 27ms/step - loss: 0.0319 - accuracy: 0.9924 - val_loss: 0.0148 - val_accuracy: 0.9952 - lr: 2.5000e-04\n",
            "Epoch 53/500\n",
            "203/204 [============================>.] - ETA: 0s - loss: 0.0316 - accuracy: 0.9912\n",
            "Epoch 53: val_loss did not improve from 0.01258\n",
            "204/204 [==============================] - 6s 27ms/step - loss: 0.0320 - accuracy: 0.9912 - val_loss: 0.0143 - val_accuracy: 0.9950 - lr: 2.5000e-04\n",
            "Epoch 54/500\n",
            "204/204 [==============================] - ETA: 0s - loss: 0.0286 - accuracy: 0.9922\n",
            "Epoch 54: val_loss did not improve from 0.01258\n",
            "204/204 [==============================] - 6s 27ms/step - loss: 0.0286 - accuracy: 0.9922 - val_loss: 0.0145 - val_accuracy: 0.9955 - lr: 2.5000e-04\n",
            "Epoch 55/500\n",
            "203/204 [============================>.] - ETA: 0s - loss: 0.0291 - accuracy: 0.9920\n",
            "Epoch 55: val_loss did not improve from 0.01258\n",
            "204/204 [==============================] - 5s 27ms/step - loss: 0.0292 - accuracy: 0.9919 - val_loss: 0.0167 - val_accuracy: 0.9961 - lr: 2.5000e-04\n",
            "Epoch 56/500\n",
            "203/204 [============================>.] - ETA: 0s - loss: 0.0328 - accuracy: 0.9911\n",
            "Epoch 56: ReduceLROnPlateau reducing learning rate to 0.0001250000059371814.\n",
            "\n",
            "Epoch 56: val_loss did not improve from 0.01258\n",
            "204/204 [==============================] - 6s 27ms/step - loss: 0.0327 - accuracy: 0.9912 - val_loss: 0.0136 - val_accuracy: 0.9952 - lr: 2.5000e-04\n",
            "Epoch 57/500\n",
            "203/204 [============================>.] - ETA: 0s - loss: 0.0272 - accuracy: 0.9923\n",
            "Epoch 57: val_loss did not improve from 0.01258\n",
            "204/204 [==============================] - 6s 27ms/step - loss: 0.0271 - accuracy: 0.9924 - val_loss: 0.0138 - val_accuracy: 0.9961 - lr: 1.2500e-04\n",
            "Epoch 58/500\n",
            "202/204 [============================>.] - ETA: 0s - loss: 0.0229 - accuracy: 0.9930\n",
            "Epoch 58: val_loss did not improve from 0.01258\n",
            "204/204 [==============================] - 6s 27ms/step - loss: 0.0228 - accuracy: 0.9931 - val_loss: 0.0128 - val_accuracy: 0.9961 - lr: 1.2500e-04\n",
            "Epoch 59/500\n",
            "203/204 [============================>.] - ETA: 0s - loss: 0.0227 - accuracy: 0.9928\n",
            "Epoch 59: val_loss did not improve from 0.01258\n",
            "204/204 [==============================] - 8s 39ms/step - loss: 0.0226 - accuracy: 0.9928 - val_loss: 0.0146 - val_accuracy: 0.9958 - lr: 1.2500e-04\n",
            "Epoch 60/500\n",
            "204/204 [==============================] - ETA: 0s - loss: 0.0287 - accuracy: 0.9926\n",
            "Epoch 60: val_loss improved from 0.01258 to 0.01258, saving model to /content/drive/MyDrive/CNN Examples/best_model1.h5\n",
            "204/204 [==============================] - 5s 26ms/step - loss: 0.0287 - accuracy: 0.9926 - val_loss: 0.0126 - val_accuracy: 0.9961 - lr: 1.2500e-04\n",
            "Epoch 61/500\n",
            "203/204 [============================>.] - ETA: 0s - loss: 0.0284 - accuracy: 0.9919\n",
            "Epoch 61: val_loss did not improve from 0.01258\n",
            "204/204 [==============================] - 5s 27ms/step - loss: 0.0283 - accuracy: 0.9919 - val_loss: 0.0130 - val_accuracy: 0.9961 - lr: 1.2500e-04\n",
            "Epoch 62/500\n",
            "203/204 [============================>.] - ETA: 0s - loss: 0.0265 - accuracy: 0.9931\n",
            "Epoch 62: val_loss did not improve from 0.01258\n",
            "204/204 [==============================] - 8s 39ms/step - loss: 0.0264 - accuracy: 0.9932 - val_loss: 0.0135 - val_accuracy: 0.9952 - lr: 1.2500e-04\n",
            "Epoch 63/500\n",
            "203/204 [============================>.] - ETA: 0s - loss: 0.0251 - accuracy: 0.9929\n",
            "Epoch 63: val_loss did not improve from 0.01258\n",
            "204/204 [==============================] - 7s 35ms/step - loss: 0.0252 - accuracy: 0.9928 - val_loss: 0.0134 - val_accuracy: 0.9966 - lr: 1.2500e-04\n",
            "Epoch 64/500\n",
            "202/204 [============================>.] - ETA: 0s - loss: 0.0263 - accuracy: 0.9930\n",
            "Epoch 64: val_loss improved from 0.01258 to 0.01255, saving model to /content/drive/MyDrive/CNN Examples/best_model1.h5\n",
            "204/204 [==============================] - 6s 27ms/step - loss: 0.0262 - accuracy: 0.9931 - val_loss: 0.0125 - val_accuracy: 0.9955 - lr: 1.2500e-04\n",
            "Epoch 65/500\n",
            "203/204 [============================>.] - ETA: 0s - loss: 0.0266 - accuracy: 0.9918\n",
            "Epoch 65: val_loss did not improve from 0.01255\n",
            "204/204 [==============================] - 5s 27ms/step - loss: 0.0265 - accuracy: 0.9918 - val_loss: 0.0134 - val_accuracy: 0.9952 - lr: 1.2500e-04\n",
            "Epoch 66/500\n",
            "202/204 [============================>.] - ETA: 0s - loss: 0.0238 - accuracy: 0.9932\n",
            "Epoch 66: ReduceLROnPlateau reducing learning rate to 6.25000029685907e-05.\n",
            "\n",
            "Epoch 66: val_loss did not improve from 0.01255\n",
            "204/204 [==============================] - 5s 27ms/step - loss: 0.0238 - accuracy: 0.9932 - val_loss: 0.0134 - val_accuracy: 0.9950 - lr: 1.2500e-04\n",
            "Epoch 67/500\n",
            "202/204 [============================>.] - ETA: 0s - loss: 0.0250 - accuracy: 0.9928\n",
            "Epoch 67: val_loss improved from 0.01255 to 0.01160, saving model to /content/drive/MyDrive/CNN Examples/best_model1.h5\n",
            "204/204 [==============================] - 6s 27ms/step - loss: 0.0249 - accuracy: 0.9929 - val_loss: 0.0116 - val_accuracy: 0.9961 - lr: 6.2500e-05\n",
            "Epoch 68/500\n",
            "203/204 [============================>.] - ETA: 0s - loss: 0.0225 - accuracy: 0.9936\n",
            "Epoch 68: val_loss did not improve from 0.01160\n",
            "204/204 [==============================] - 8s 41ms/step - loss: 0.0225 - accuracy: 0.9937 - val_loss: 0.0117 - val_accuracy: 0.9961 - lr: 6.2500e-05\n",
            "Epoch 69/500\n",
            "204/204 [==============================] - ETA: 0s - loss: 0.0252 - accuracy: 0.9926\n",
            "Epoch 69: val_loss did not improve from 0.01160\n",
            "204/204 [==============================] - 6s 27ms/step - loss: 0.0252 - accuracy: 0.9926 - val_loss: 0.0120 - val_accuracy: 0.9964 - lr: 6.2500e-05\n",
            "Epoch 70/500\n",
            "203/204 [============================>.] - ETA: 0s - loss: 0.0237 - accuracy: 0.9936\n",
            "Epoch 70: val_loss did not improve from 0.01160\n",
            "204/204 [==============================] - 6s 30ms/step - loss: 0.0236 - accuracy: 0.9937 - val_loss: 0.0129 - val_accuracy: 0.9955 - lr: 6.2500e-05\n",
            "Epoch 71/500\n",
            "204/204 [==============================] - ETA: 0s - loss: 0.0217 - accuracy: 0.9936\n",
            "Epoch 71: val_loss did not improve from 0.01160\n",
            "204/204 [==============================] - 7s 37ms/step - loss: 0.0217 - accuracy: 0.9936 - val_loss: 0.0119 - val_accuracy: 0.9958 - lr: 6.2500e-05\n",
            "Epoch 72/500\n",
            "202/204 [============================>.] - ETA: 0s - loss: 0.0242 - accuracy: 0.9931\n",
            "Epoch 72: val_loss did not improve from 0.01160\n",
            "204/204 [==============================] - 9s 43ms/step - loss: 0.0240 - accuracy: 0.9932 - val_loss: 0.0124 - val_accuracy: 0.9958 - lr: 6.2500e-05\n",
            "Epoch 73/500\n",
            "204/204 [==============================] - ETA: 0s - loss: 0.0238 - accuracy: 0.9928\n",
            "Epoch 73: val_loss did not improve from 0.01160\n",
            "204/204 [==============================] - 6s 27ms/step - loss: 0.0238 - accuracy: 0.9928 - val_loss: 0.0119 - val_accuracy: 0.9964 - lr: 6.2500e-05\n",
            "Epoch 74/500\n",
            "203/204 [============================>.] - ETA: 0s - loss: 0.0225 - accuracy: 0.9935\n",
            "Epoch 74: val_loss did not improve from 0.01160\n",
            "204/204 [==============================] - 7s 33ms/step - loss: 0.0224 - accuracy: 0.9936 - val_loss: 0.0133 - val_accuracy: 0.9958 - lr: 6.2500e-05\n",
            "Epoch 75/500\n",
            "204/204 [==============================] - ETA: 0s - loss: 0.0231 - accuracy: 0.9933\n",
            "Epoch 75: val_loss did not improve from 0.01160\n",
            "204/204 [==============================] - 8s 38ms/step - loss: 0.0231 - accuracy: 0.9933 - val_loss: 0.0136 - val_accuracy: 0.9964 - lr: 6.2500e-05\n",
            "Epoch 76/500\n",
            "203/204 [============================>.] - ETA: 0s - loss: 0.0218 - accuracy: 0.9940\n",
            "Epoch 76: ReduceLROnPlateau reducing learning rate to 3.125000148429535e-05.\n",
            "\n",
            "Epoch 76: val_loss did not improve from 0.01160\n",
            "204/204 [==============================] - 6s 27ms/step - loss: 0.0217 - accuracy: 0.9940 - val_loss: 0.0118 - val_accuracy: 0.9964 - lr: 6.2500e-05\n",
            "Epoch 77/500\n",
            "203/204 [============================>.] - ETA: 0s - loss: 0.0217 - accuracy: 0.9928\n",
            "Epoch 77: val_loss improved from 0.01160 to 0.01150, saving model to /content/drive/MyDrive/CNN Examples/best_model1.h5\n",
            "204/204 [==============================] - 6s 28ms/step - loss: 0.0217 - accuracy: 0.9928 - val_loss: 0.0115 - val_accuracy: 0.9958 - lr: 3.1250e-05\n",
            "Epoch 78/500\n",
            "203/204 [============================>.] - ETA: 0s - loss: 0.0216 - accuracy: 0.9932\n",
            "Epoch 78: val_loss did not improve from 0.01150\n",
            "204/204 [==============================] - 6s 31ms/step - loss: 0.0215 - accuracy: 0.9933 - val_loss: 0.0118 - val_accuracy: 0.9958 - lr: 3.1250e-05\n",
            "Epoch 79/500\n",
            "203/204 [============================>.] - ETA: 0s - loss: 0.0214 - accuracy: 0.9935\n",
            "Epoch 79: val_loss did not improve from 0.01150\n",
            "204/204 [==============================] - 6s 27ms/step - loss: 0.0215 - accuracy: 0.9935 - val_loss: 0.0120 - val_accuracy: 0.9955 - lr: 3.1250e-05\n",
            "Epoch 80/500\n",
            "203/204 [============================>.] - ETA: 0s - loss: 0.0240 - accuracy: 0.9936\n",
            "Epoch 80: val_loss did not improve from 0.01150\n",
            "204/204 [==============================] - 6s 27ms/step - loss: 0.0240 - accuracy: 0.9936 - val_loss: 0.0124 - val_accuracy: 0.9955 - lr: 3.1250e-05\n",
            "Epoch 81/500\n",
            "204/204 [==============================] - ETA: 0s - loss: 0.0179 - accuracy: 0.9945\n",
            "Epoch 81: val_loss did not improve from 0.01150\n",
            "204/204 [==============================] - 6s 28ms/step - loss: 0.0179 - accuracy: 0.9945 - val_loss: 0.0125 - val_accuracy: 0.9955 - lr: 3.1250e-05\n",
            "Epoch 82/500\n",
            "203/204 [============================>.] - ETA: 0s - loss: 0.0205 - accuracy: 0.9937\n",
            "Epoch 82: val_loss did not improve from 0.01150\n",
            "204/204 [==============================] - 9s 42ms/step - loss: 0.0204 - accuracy: 0.9938 - val_loss: 0.0122 - val_accuracy: 0.9958 - lr: 3.1250e-05\n",
            "Epoch 83/500\n",
            "204/204 [==============================] - ETA: 0s - loss: 0.0213 - accuracy: 0.9938\n",
            "Epoch 83: val_loss improved from 0.01150 to 0.01125, saving model to /content/drive/MyDrive/CNN Examples/best_model1.h5\n",
            "204/204 [==============================] - 10s 48ms/step - loss: 0.0213 - accuracy: 0.9938 - val_loss: 0.0113 - val_accuracy: 0.9958 - lr: 3.1250e-05\n",
            "Epoch 84/500\n",
            "204/204 [==============================] - ETA: 0s - loss: 0.0210 - accuracy: 0.9939\n",
            "Epoch 84: val_loss did not improve from 0.01125\n",
            "204/204 [==============================] - 6s 30ms/step - loss: 0.0210 - accuracy: 0.9939 - val_loss: 0.0118 - val_accuracy: 0.9961 - lr: 3.1250e-05\n",
            "Epoch 85/500\n",
            "204/204 [==============================] - ETA: 0s - loss: 0.0223 - accuracy: 0.9937\n",
            "Epoch 85: val_loss improved from 0.01125 to 0.01124, saving model to /content/drive/MyDrive/CNN Examples/best_model1.h5\n",
            "204/204 [==============================] - 6s 28ms/step - loss: 0.0223 - accuracy: 0.9937 - val_loss: 0.0112 - val_accuracy: 0.9958 - lr: 3.1250e-05\n",
            "Epoch 86/500\n",
            "204/204 [==============================] - ETA: 0s - loss: 0.0204 - accuracy: 0.9944\n",
            "Epoch 86: ReduceLROnPlateau reducing learning rate to 1.5625000742147677e-05.\n",
            "\n",
            "Epoch 86: val_loss did not improve from 0.01124\n",
            "204/204 [==============================] - 6s 27ms/step - loss: 0.0204 - accuracy: 0.9944 - val_loss: 0.0118 - val_accuracy: 0.9955 - lr: 3.1250e-05\n",
            "Epoch 87/500\n",
            "204/204 [==============================] - ETA: 0s - loss: 0.0200 - accuracy: 0.9940\n",
            "Epoch 87: val_loss did not improve from 0.01124\n",
            "204/204 [==============================] - 10s 50ms/step - loss: 0.0200 - accuracy: 0.9940 - val_loss: 0.0115 - val_accuracy: 0.9955 - lr: 1.5625e-05\n",
            "Epoch 88/500\n",
            "203/204 [============================>.] - ETA: 0s - loss: 0.0198 - accuracy: 0.9940\n",
            "Epoch 88: val_loss did not improve from 0.01124\n",
            "204/204 [==============================] - 6s 27ms/step - loss: 0.0198 - accuracy: 0.9940 - val_loss: 0.0118 - val_accuracy: 0.9958 - lr: 1.5625e-05\n",
            "Epoch 89/500\n",
            "203/204 [============================>.] - ETA: 0s - loss: 0.0213 - accuracy: 0.9942\n",
            "Epoch 89: val_loss did not improve from 0.01124\n",
            "204/204 [==============================] - 6s 28ms/step - loss: 0.0212 - accuracy: 0.9942 - val_loss: 0.0122 - val_accuracy: 0.9958 - lr: 1.5625e-05\n",
            "Epoch 90/500\n",
            "204/204 [==============================] - ETA: 0s - loss: 0.0234 - accuracy: 0.9932\n",
            "Epoch 90: val_loss did not improve from 0.01124\n",
            "204/204 [==============================] - 6s 28ms/step - loss: 0.0234 - accuracy: 0.9932 - val_loss: 0.0121 - val_accuracy: 0.9958 - lr: 1.5625e-05\n",
            "Epoch 91/500\n",
            "203/204 [============================>.] - ETA: 0s - loss: 0.0202 - accuracy: 0.9941\n",
            "Epoch 91: val_loss did not improve from 0.01124\n",
            "204/204 [==============================] - 6s 27ms/step - loss: 0.0202 - accuracy: 0.9941 - val_loss: 0.0126 - val_accuracy: 0.9958 - lr: 1.5625e-05\n",
            "Epoch 92/500\n",
            "203/204 [============================>.] - ETA: 0s - loss: 0.0186 - accuracy: 0.9949\n",
            "Epoch 92: val_loss did not improve from 0.01124\n",
            "204/204 [==============================] - 6s 28ms/step - loss: 0.0186 - accuracy: 0.9949 - val_loss: 0.0123 - val_accuracy: 0.9961 - lr: 1.5625e-05\n",
            "Epoch 93/500\n",
            "204/204 [==============================] - ETA: 0s - loss: 0.0216 - accuracy: 0.9937\n",
            "Epoch 93: val_loss did not improve from 0.01124\n",
            "204/204 [==============================] - 6s 28ms/step - loss: 0.0216 - accuracy: 0.9937 - val_loss: 0.0127 - val_accuracy: 0.9958 - lr: 1.5625e-05\n",
            "Epoch 94/500\n",
            "203/204 [============================>.] - ETA: 0s - loss: 0.0198 - accuracy: 0.9942\n",
            "Epoch 94: val_loss did not improve from 0.01124\n",
            "204/204 [==============================] - 8s 40ms/step - loss: 0.0198 - accuracy: 0.9941 - val_loss: 0.0127 - val_accuracy: 0.9958 - lr: 1.5625e-05\n",
            "Epoch 95/500\n",
            "203/204 [============================>.] - ETA: 0s - loss: 0.0214 - accuracy: 0.9944\n",
            "Epoch 95: val_loss did not improve from 0.01124\n",
            "204/204 [==============================] - 6s 29ms/step - loss: 0.0215 - accuracy: 0.9944 - val_loss: 0.0123 - val_accuracy: 0.9958 - lr: 1.5625e-05\n",
            "Epoch 96/500\n",
            "203/204 [============================>.] - ETA: 0s - loss: 0.0182 - accuracy: 0.9941\n",
            "Epoch 96: ReduceLROnPlateau reducing learning rate to 1e-05.\n",
            "\n",
            "Epoch 96: val_loss did not improve from 0.01124\n",
            "204/204 [==============================] - 6s 27ms/step - loss: 0.0182 - accuracy: 0.9941 - val_loss: 0.0124 - val_accuracy: 0.9955 - lr: 1.5625e-05\n",
            "Epoch 97/500\n",
            "203/204 [============================>.] - ETA: 0s - loss: 0.0211 - accuracy: 0.9936\n",
            "Epoch 97: val_loss did not improve from 0.01124\n",
            "204/204 [==============================] - 6s 27ms/step - loss: 0.0210 - accuracy: 0.9937 - val_loss: 0.0119 - val_accuracy: 0.9955 - lr: 1.0000e-05\n",
            "Epoch 98/500\n",
            "203/204 [============================>.] - ETA: 0s - loss: 0.0198 - accuracy: 0.9941\n",
            "Epoch 98: val_loss did not improve from 0.01124\n",
            "204/204 [==============================] - 6s 28ms/step - loss: 0.0199 - accuracy: 0.9941 - val_loss: 0.0119 - val_accuracy: 0.9958 - lr: 1.0000e-05\n",
            "Epoch 99/500\n",
            "202/204 [============================>.] - ETA: 0s - loss: 0.0196 - accuracy: 0.9941\n",
            "Epoch 99: val_loss did not improve from 0.01124\n",
            "204/204 [==============================] - 7s 36ms/step - loss: 0.0196 - accuracy: 0.9941 - val_loss: 0.0120 - val_accuracy: 0.9958 - lr: 1.0000e-05\n",
            "Epoch 100/500\n",
            "203/204 [============================>.] - ETA: 0s - loss: 0.0211 - accuracy: 0.9940\n",
            "Epoch 100: val_loss did not improve from 0.01124\n",
            "204/204 [==============================] - 9s 43ms/step - loss: 0.0210 - accuracy: 0.9941 - val_loss: 0.0117 - val_accuracy: 0.9955 - lr: 1.0000e-05\n"
          ]
        }
      ],
      "source": [
        "# Fit the model\n",
        "History = model.fit(datagen.flow(X_train, y_train, batch_size=batch_size),\n",
        "                              epochs = 500, validation_data = (X_val, y_val),\n",
        "                              verbose = 1, steps_per_epoch=X_train.shape[0] // batch_size\n",
        "                              , callbacks= callback)"
      ]
    },
    {
      "cell_type": "code",
      "source": [
        "model = load_model('/content/drive/MyDrive/CNN Examples/best_model'+str(MODEL_NUM)+'.h5')"
      ],
      "metadata": {
        "id": "TRH7cqz3JHsb"
      },
      "execution_count": 75,
      "outputs": []
    },
    {
      "cell_type": "code",
      "source": [
        "accuracy = History.history['accuracy']\n",
        "val_accuracy = History.history['val_accuracy']\n",
        "loss = History.history['loss']\n",
        "val_loss = History.history['val_loss']\n",
        "epochs = range(len(accuracy))\n",
        "\n",
        "plt.figure(figsize=(8, 5))\n",
        "plt.plot(epochs, accuracy, 'bo')\n",
        "plt.plot(epochs, val_accuracy, 'r')\n",
        "plt.title('Training and validation accuracy')\n",
        "plt.legend(['Training accuracy', 'Validation accuracy'])\n",
        "plt.figure(figsize=(8, 5))\n",
        "\n",
        "plt.plot(epochs, loss, 'bo')\n",
        "plt.plot(epochs, val_loss, 'r')\n",
        "plt.title('Training and validation loss')\n",
        "plt.legend(['Training loss', 'Validation loss' ])\n",
        "plt.show()"
      ],
      "metadata": {
        "colab": {
          "base_uri": "https://localhost:8080/",
          "height": 655
        },
        "outputId": "61065fa4-1b2d-44bd-d66b-e907c5739a18",
        "id": "P9pd5qcIJHsp"
      },
      "execution_count": 76,
      "outputs": [
        {
          "output_type": "display_data",
          "data": {
            "text/plain": [
              "<Figure size 576x360 with 1 Axes>"
            ],
            "image/png": "[encoded data removed]"
          },
          "metadata": {
            "needs_background": "light"
          }
        },
        {
          "output_type": "display_data",
          "data": {
            "text/plain": [
              "<Figure size 576x360 with 1 Axes>"
            ],
            "image/png": "[encoded data removed]"
          },
          "metadata": {
            "needs_background": "light"
          }
        }
      ]
    },
    {
      "cell_type": "markdown",
      "source": [
        "## Accuracy & loss of ***Training***"
      ],
      "metadata": {
        "id": "G2UIWdIlJHsq"
      }
    },
    {
      "cell_type": "code",
      "metadata": {
        "colab": {
          "base_uri": "https://localhost:8080/"
        },
        "outputId": "2c56211d-5581-40c4-de36-aa0c61472d13",
        "id": "IoeuYtVzJHsq"
      },
      "source": [
        "loss, acc = model.evaluate(X_train, y_train, verbose=0)\n",
        "print('Train loss: {}'.format(loss))\n",
        "print('Train Accuracy: {}'.format(acc))"
      ],
      "execution_count": 77,
      "outputs": [
        {
          "output_type": "stream",
          "name": "stdout",
          "text": [
            "Train loss: 0.0026330219116061926\n",
            "Train Accuracy: 0.9992617964744568\n"
          ]
        }
      ]
    },
    {
      "cell_type": "markdown",
      "source": [
        "## Accuracy & loss of ***Validation***"
      ],
      "metadata": {
        "id": "mczTtVZ2JHsr"
      }
    },
    {
      "cell_type": "code",
      "metadata": {
        "colab": {
          "base_uri": "https://localhost:8080/"
        },
        "outputId": "eabc474f-d205-45fa-c1a4-8fba8dd0c5d9",
        "id": "9kB_2GimJHsr"
      },
      "source": [
        "loss, acc = model.evaluate(X_val, y_val, verbose=0)\n",
        "print('Test loss: {}'.format(loss))\n",
        "print('Test Accuracy: {}'.format(acc))"
      ],
      "execution_count": 78,
      "outputs": [
        {
          "output_type": "stream",
          "name": "stdout",
          "text": [
            "Test loss: 0.011242019943892956\n",
            "Test Accuracy: 0.9957959651947021\n"
          ]
        }
      ]
    },
    {
      "cell_type": "markdown",
      "source": [
        "## Accuracy & loss of ***Testing***"
      ],
      "metadata": {
        "id": "onKSunFOJHsr"
      }
    },
    {
      "cell_type": "code",
      "source": [
        "loss, acc = model.evaluate(X_test, y_test, verbose=0)\n",
        "print('Final_Test loss: {}'.format(loss))\n",
        "print('Final_Test Accuracy: {}'.format(acc))"
      ],
      "metadata": {
        "colab": {
          "base_uri": "https://localhost:8080/"
        },
        "outputId": "5cb997ed-9357-4254-8816-984e4956953c",
        "id": "nJueh2NKJHss"
      },
      "execution_count": 79,
      "outputs": [
        {
          "output_type": "stream",
          "name": "stdout",
          "text": [
            "Final_Test loss: 0.020702088251709938\n",
            "Final_Test Accuracy: 0.9951419830322266\n"
          ]
        }
      ]
    },
    {
      "cell_type": "markdown",
      "source": [
        "# Prediction Images Overview"
      ],
      "metadata": {
        "id": "cJqelfY3JHss"
      }
    },
    {
      "cell_type": "markdown",
      "source": [
        "## ***Test*** Prediction"
      ],
      "metadata": {
        "id": "c6ssCVqJJHss"
      }
    },
    {
      "cell_type": "code",
      "metadata": {
        "_cell_guid": "e20ea650-9406-4743-8e70-37c1ed939787",
        "_uuid": "fd436566-065a-4dd6-97e9-22bb05fa2c53",
        "execution": {
          "iopub.execute_input": "2021-11-03T08:06:34.811186Z",
          "iopub.status.busy": "2021-11-03T08:06:34.810059Z",
          "iopub.status.idle": "2021-11-03T08:06:35.268434Z",
          "shell.execute_reply": "2021-11-03T08:06:35.268844Z",
          "shell.execute_reply.started": "2021-11-02T22:57:48.797639Z"
        },
        "jupyter": {
          "outputs_hidden": false
        },
        "papermill": {
          "duration": 0.561411,
          "end_time": "2021-11-03T08:06:35.269053",
          "exception": false,
          "start_time": "2021-11-03T08:06:34.707642",
          "status": "completed"
        },
        "tags": [],
        "id": "eZhJcQx3JHst"
      },
      "source": [
        "predict_x = model.predict(X_test) \n",
        "y_test_predict = np.argmax(predict_x, axis=1)"
      ],
      "execution_count": 80,
      "outputs": []
    },
    {
      "cell_type": "code",
      "source": [
        "plt.figure(figsize=(15,25))\n",
        "\n",
        "for i in range(1,51):\n",
        "  plt.subplot(10,5,i)\n",
        "  plt.axis('off')\n",
        "  plt.imshow(X_test[i].reshape(28, 28), cmap='gray')\n",
        "  nums = label_nums[int(y_test_predict[i])]\n",
        "  plt.title(nums)"
      ],
      "metadata": {
        "colab": {
          "base_uri": "https://localhost:8080/",
          "height": 1000
        },
        "outputId": "85615f65-c2e5-4698-ce77-9e3addee3f19",
        "id": "aixkzz84JHst"
      },
      "execution_count": 81,
      "outputs": [
        {
          "output_type": "display_data",
          "data": {
            "text/plain": [
              "<Figure size 1080x1800 with 50 Axes>"
            ],
            "image/png": "[encoded data removed]"
          },
          "metadata": {
            "needs_background": "light"
          }
        }
      ]
    },
    {
      "cell_type": "markdown",
      "source": [
        "_____________________________________\n",
        "_____________________________________"
      ],
      "metadata": {
        "id": "DnojU41qJHsu"
      }
    },
    {
      "cell_type": "markdown",
      "source": [
        "## Test ***Confusion Matrix***:"
      ],
      "metadata": {
        "id": "PdoAGo_nJHsu"
      }
    },
    {
      "cell_type": "code",
      "source": [
        "cmat = confusion_matrix(y_test, y_test_predict, labels=label_nums)\n",
        "plt.figure(figsize=(8,6))\n",
        "sns.heatmap(cmat, annot = True, cbar = False, cmap='YlGnBu', fmt=\"d\", xticklabels=label_nums, yticklabels=label_nums);\n",
        "\n",
        "plt.xlabel('Predection')\n",
        "plt.ylabel('Real')\n"
      ],
      "metadata": {
        "colab": {
          "base_uri": "https://localhost:8080/",
          "height": 405
        },
        "outputId": "0e14e8e3-03d8-4c25-9d47-ca6c2fb4c2ad",
        "id": "OX8g3sQYJHsu"
      },
      "execution_count": 82,
      "outputs": [
        {
          "output_type": "execute_result",
          "data": {
            "text/plain": [
              "Text(51.0, 0.5, 'Real')"
            ]
          },
          "metadata": {},
          "execution_count": 82
        },
        {
          "output_type": "display_data",
          "data": {
            "text/plain": [
              "<Figure size 576x432 with 1 Axes>"
            ],
            "image/png": "[encoded data removed]"
          },
          "metadata": {
            "needs_background": "light"
          }
        }
      ]
    },
    {
      "cell_type": "markdown",
      "source": [
        "## ***Test*** Report"
      ],
      "metadata": {
        "id": "NtHA4LaDJHsv"
      }
    },
    {
      "cell_type": "code",
      "source": [
        "print(classification_report(y_test, y_test_predict))"
      ],
      "metadata": {
        "colab": {
          "base_uri": "https://localhost:8080/"
        },
        "outputId": "6531d19c-de17-4a09-9946-9e043bf20a3b",
        "id": "4dE3FpsyJHsv"
      },
      "execution_count": 83,
      "outputs": [
        {
          "output_type": "stream",
          "name": "stdout",
          "text": [
            "              precision    recall  f1-score   support\n",
            "\n",
            "           0       1.00      1.00      1.00       509\n",
            "           1       0.99      0.99      0.99       540\n",
            "           2       0.99      0.99      0.99       529\n",
            "           3       0.99      1.00      1.00       547\n",
            "           4       0.99      0.99      0.99       535\n",
            "           5       1.00      0.99      1.00       554\n",
            "           6       0.99      0.99      0.99       539\n",
            "           7       1.00      0.99      0.99       541\n",
            "           8       1.00      0.99      1.00       524\n",
            "           9       0.99      1.00      1.00       534\n",
            "\n",
            "    accuracy                           1.00      5352\n",
            "   macro avg       1.00      1.00      1.00      5352\n",
            "weighted avg       1.00      1.00      1.00      5352\n",
            "\n"
          ]
        }
      ]
    }
  ],
  "metadata": {
    "kernelspec": {
      "display_name": "Python 3",
      "language": "python",
      "name": "python3"
    },
    "language_info": {
      "codemirror_mode": {
        "name": "ipython",
        "version": 3
      },
      "file_extension": ".py",
      "mimetype": "text/x-python",
      "name": "python",
      "nbconvert_exporter": "python",
      "pygments_lexer": "ipython3",
      "version": "3.8.8"
    },
    "colab": {
      "name": "02_introduction_to_cnn.ipynb",
      "provenance": [],
      "collapsed_sections": []
    },
    "accelerator": "GPU"
  },
  "nbformat": 4,
  "nbformat_minor": 0
}